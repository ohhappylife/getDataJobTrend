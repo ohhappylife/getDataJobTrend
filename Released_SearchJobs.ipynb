{
  "nbformat": 4,
  "nbformat_minor": 0,
  "metadata": {
    "colab": {
      "name": "Released_SearchJobs.ipynb",
      "provenance": []
    },
    "kernelspec": {
      "name": "python3",
      "display_name": "Python 3"
    },
    "language_info": {
      "name": "python"
    }
  },
  "cells": [
    {
      "cell_type": "markdown",
      "metadata": {
        "id": "0dvGqR_x5QJn"
      },
      "source": [
        "# BASIC INFORMATION\n",
        "\n",
        "1.   Date of code written: April 2020\n",
        "2.   Last Modified Date: N/A\n",
        "3.   Document Written Date: May 2021\n",
        "\n",
        "https://www.sungwooshon.tech/project/but-what-skills"
      ]
    },
    {
      "cell_type": "markdown",
      "metadata": {
        "id": "o30ey8_5R8iW"
      },
      "source": [
        "## Import File\n",
        "\n",
        "Dataset: Data Science Job Posting on Glassdoor (https://www.kaggle.com/rashikrahmanpritom/data-science-job-posting-on-glassdoor)"
      ]
    },
    {
      "cell_type": "code",
      "metadata": {
        "id": "YV6b3HXNljDw"
      },
      "source": [
        "import pandas as pd\n",
        "data='https://raw.githubusercontent.com/ohhappylife/searchJobs/main/DS_jobs.csv?token=AQICGTYLCE56N25NX7I7DYLAU43EC'\n",
        "\n",
        "df=pd.read_csv(data, encoding = \"ISO-8859-1\")"
      ],
      "execution_count": 18,
      "outputs": []
    },
    {
      "cell_type": "markdown",
      "metadata": {
        "id": "ralu7-0GR9Uy"
      },
      "source": [
        "## Text Clearation Remove the Stopword, Tokenization"
      ]
    },
    {
      "cell_type": "code",
      "metadata": {
        "id": "1dLULyDJmnht"
      },
      "source": [
        "from nltk.corpus import stopwords\n",
        "import nltk\n",
        "stop = stopwords.words('english')\n",
        "\n",
        "# Removing Stopwords from the list\n",
        "df['Job Description'] = df['Job Description'].astype(str).str.replace(\"[^\\w\\s]\", \"\").str.lower()\n",
        "df['Job Description'] = df['Job Description'].apply(lambda x: [item for item in x.split() if item not in stop])"
      ],
      "execution_count": 19,
      "outputs": []
    },
    {
      "cell_type": "code",
      "metadata": {
        "id": "ElvYIndxu9L3"
      },
      "source": [
        "# Keep unique values only\n",
        "df['Job Description'] = df['Job Description'].astype(str).str.replace('nan|[{}\\s]','').str.split(',').apply(set).str.join(',').str.strip(',').str.replace(\",{2,}\",\",\")"
      ],
      "execution_count": 20,
      "outputs": []
    },
    {
      "cell_type": "code",
      "metadata": {
        "id": "VE5slD6NuwXg"
      },
      "source": [
        "# Formatting texts\n",
        "df['Job Description']=df['Job Description'].str.replace(\"'\", '')\n",
        "df['Job Description']=df['Job Description'].str.replace(\",\", ' ')\n",
        "df['Salary Estimate']=df['Salary Estimate'].str.replace(\"$\", '')\n",
        "df['Salary Estimate']=df['Salary Estimate'].str.replace(\"K\", '')\n",
        "df['Salary Estimate']=df['Salary Estimate'].str.replace(\"((Glassdoor est.))\", '')"
      ],
      "execution_count": 21,
      "outputs": []
    },
    {
      "cell_type": "markdown",
      "metadata": {
        "id": "6TFDo3gKSXbz"
      },
      "source": [
        "# Find the industrial demand skills"
      ]
    },
    {
      "cell_type": "markdown",
      "metadata": {
        "id": "FkcoxdhV6Elj"
      },
      "source": [
        "## Count the Tokenized words in job description\n",
        "List the words in the job descriptions and get the frequency of the words."
      ]
    },
    {
      "cell_type": "code",
      "metadata": {
        "id": "xxUJOX_U6HaC"
      },
      "source": [
        "# Count the word frequencies\n",
        "count = df['Job Description'].astype(str).str.split(expand=True).stack().value_counts()"
      ],
      "execution_count": 22,
      "outputs": []
    },
    {
      "cell_type": "code",
      "metadata": {
        "id": "qYQuqOxz9VXN"
      },
      "source": [
        "# Store the word frequency\n",
        "df2 = pd.DataFrame(data = count)\n",
        "df2.columns = [\"count\"]"
      ],
      "execution_count": 23,
      "outputs": []
    },
    {
      "cell_type": "code",
      "metadata": {
        "id": "V8ZY5ngH68uP",
        "colab": {
          "base_uri": "https://localhost:8080/",
          "height": 404
        },
        "outputId": "2c2ac182-3cb4-4f23-8670-062462784b1c"
      },
      "source": [
        "# see the list of the words and their frequency\n",
        "df2"
      ],
      "execution_count": 24,
      "outputs": [
        {
          "output_type": "execute_result",
          "data": {
            "text/html": [
              "<div>\n",
              "<style scoped>\n",
              "    .dataframe tbody tr th:only-of-type {\n",
              "        vertical-align: middle;\n",
              "    }\n",
              "\n",
              "    .dataframe tbody tr th {\n",
              "        vertical-align: top;\n",
              "    }\n",
              "\n",
              "    .dataframe thead th {\n",
              "        text-align: right;\n",
              "    }\n",
              "</style>\n",
              "<table border=\"1\" class=\"dataframe\">\n",
              "  <thead>\n",
              "    <tr style=\"text-align: right;\">\n",
              "      <th></th>\n",
              "      <th>count</th>\n",
              "    </tr>\n",
              "  </thead>\n",
              "  <tbody>\n",
              "    <tr>\n",
              "      <th>data</th>\n",
              "      <td>659</td>\n",
              "    </tr>\n",
              "    <tr>\n",
              "      <th>experience</th>\n",
              "      <td>647</td>\n",
              "    </tr>\n",
              "    <tr>\n",
              "      <th>work</th>\n",
              "      <td>550</td>\n",
              "    </tr>\n",
              "    <tr>\n",
              "      <th>science</th>\n",
              "      <td>535</td>\n",
              "    </tr>\n",
              "    <tr>\n",
              "      <th>skills</th>\n",
              "      <td>532</td>\n",
              "    </tr>\n",
              "    <tr>\n",
              "      <th>...</th>\n",
              "      <td>...</td>\n",
              "    </tr>\n",
              "    <tr>\n",
              "      <th>histopathology</th>\n",
              "      <td>1</td>\n",
              "    </tr>\n",
              "    <tr>\n",
              "      <th>themes</th>\n",
              "      <td>1</td>\n",
              "    </tr>\n",
              "    <tr>\n",
              "      <th>8vc</th>\n",
              "      <td>1</td>\n",
              "    </tr>\n",
              "    <tr>\n",
              "      <th>dressed</th>\n",
              "      <td>1</td>\n",
              "    </tr>\n",
              "    <tr>\n",
              "      <th>familial</th>\n",
              "      <td>1</td>\n",
              "    </tr>\n",
              "  </tbody>\n",
              "</table>\n",
              "<p>12791 rows × 1 columns</p>\n",
              "</div>"
            ],
            "text/plain": [
              "                count\n",
              "data              659\n",
              "experience        647\n",
              "work              550\n",
              "science           535\n",
              "skills            532\n",
              "...               ...\n",
              "histopathology      1\n",
              "themes              1\n",
              "8vc                 1\n",
              "dressed             1\n",
              "familial            1\n",
              "\n",
              "[12791 rows x 1 columns]"
            ]
          },
          "metadata": {
            "tags": []
          },
          "execution_count": 24
        }
      ]
    },
    {
      "cell_type": "code",
      "metadata": {
        "id": "3JJ0N4c-Csh5",
        "colab": {
          "base_uri": "https://localhost:8080/"
        },
        "outputId": "6e6ad6ae-3789-46be-d74c-e6664a0168a4"
      },
      "source": [
        "# Store the word frequency data into df3, and calculate the percentage of word occurences.\n",
        "df3 = df2.loc[df2.index.isin(['phd','python','sas', 'sql', 'tableau', 'r', 'algorithms', 'bachelors', \n",
        "                              'hadoop', 'visualization', 'visualizations', 'spark', 'masters', 'aws',\n",
        "                              'excel', 'agile', 'optimization', 'optimize', 'tensorflow', 'excel', 'nosql', 'scikitlearn', 'nlp'])]\n",
        "df3['percentage'] = (df3['count'] / len(df.index)) * 100"
      ],
      "execution_count": 25,
      "outputs": [
        {
          "output_type": "stream",
          "text": [
            "/usr/local/lib/python3.7/dist-packages/ipykernel_launcher.py:5: SettingWithCopyWarning:\n",
            "\n",
            "\n",
            "A value is trying to be set on a copy of a slice from a DataFrame.\n",
            "Try using .loc[row_indexer,col_indexer] = value instead\n",
            "\n",
            "See the caveats in the documentation: https://pandas.pydata.org/pandas-docs/stable/user_guide/indexing.html#returning-a-view-versus-a-copy\n",
            "\n"
          ],
          "name": "stderr"
        }
      ]
    },
    {
      "cell_type": "markdown",
      "metadata": {
        "id": "XTCLa6nc5-p0"
      },
      "source": [
        "## Visualize the word frequency with bar graphs"
      ]
    },
    {
      "cell_type": "code",
      "metadata": {
        "id": "44MFZUibTZ8G",
        "colab": {
          "base_uri": "https://localhost:8080/",
          "height": 542
        },
        "outputId": "080fdc84-eec0-4f29-ee93-2c482ca6493a"
      },
      "source": [
        "import plotly.express as px\n",
        "fig = px.bar(df3, \n",
        "             x=df3.index, \n",
        "             y='percentage'\n",
        "             )\n",
        "fig.show()"
      ],
      "execution_count": 26,
      "outputs": [
        {
          "output_type": "display_data",
          "data": {
            "text/html": [
              "<html>\n",
              "<head><meta charset=\"utf-8\" /></head>\n",
              "<body>\n",
              "    <div>\n",
              "            <script src=\"https://cdnjs.cloudflare.com/ajax/libs/mathjax/2.7.5/MathJax.js?config=TeX-AMS-MML_SVG\"></script><script type=\"text/javascript\">if (window.MathJax) {MathJax.Hub.Config({SVG: {font: \"STIX-Web\"}});}</script>\n",
              "                <script type=\"text/javascript\">window.PlotlyConfig = {MathJaxConfig: 'local'};</script>\n",
              "        <script src=\"https://cdn.plot.ly/plotly-latest.min.js\"></script>    \n",
              "            <div id=\"2785d8b6-b05d-4a24-a952-cfc264cd4752\" class=\"plotly-graph-div\" style=\"height:525px; width:100%;\"></div>\n",
              "            <script type=\"text/javascript\">\n",
              "                \n",
              "                    window.PLOTLYENV=window.PLOTLYENV || {};\n",
              "                    \n",
              "                if (document.getElementById(\"2785d8b6-b05d-4a24-a952-cfc264cd4752\")) {\n",
              "                    Plotly.newPlot(\n",
              "                        '2785d8b6-b05d-4a24-a952-cfc264cd4752',\n",
              "                        [{\"alignmentgroup\": \"True\", \"hoverlabel\": {\"namelength\": 0}, \"hovertemplate\": \"x=%{x}<br>percentage=%{y}\", \"legendgroup\": \"\", \"marker\": {\"color\": \"#636efa\"}, \"name\": \"\", \"offsetgroup\": \"\", \"orientation\": \"v\", \"showlegend\": false, \"textposition\": \"auto\", \"type\": \"bar\", \"x\": [\"python\", \"sql\", \"r\", \"algorithms\", \"bachelors\", \"visualization\", \"spark\", \"phd\", \"masters\", \"aws\", \"hadoop\", \"tableau\", \"agile\", \"optimization\", \"visualizations\", \"tensorflow\", \"optimize\", \"sas\", \"excel\", \"nosql\", \"scikitlearn\", \"nlp\"], \"xaxis\": \"x\", \"y\": [70.23809523809523, 46.726190476190474, 43.154761904761905, 39.58333333333333, 35.86309523809524, 27.529761904761905, 25.44642857142857, 22.916666666666664, 20.386904761904763, 19.345238095238095, 19.196428571428573, 18.154761904761905, 15.922619047619047, 15.476190476190476, 15.178571428571427, 14.583333333333334, 12.946428571428573, 11.755952380952381, 11.607142857142858, 11.30952380952381, 8.333333333333332, 7.738095238095238], \"yaxis\": \"y\"}],\n",
              "                        {\"barmode\": \"relative\", \"legend\": {\"tracegroupgap\": 0}, \"margin\": {\"t\": 60}, \"template\": {\"data\": {\"bar\": [{\"error_x\": {\"color\": \"#2a3f5f\"}, \"error_y\": {\"color\": \"#2a3f5f\"}, \"marker\": {\"line\": {\"color\": \"#E5ECF6\", \"width\": 0.5}}, \"type\": \"bar\"}], \"barpolar\": [{\"marker\": {\"line\": {\"color\": \"#E5ECF6\", \"width\": 0.5}}, \"type\": \"barpolar\"}], \"carpet\": [{\"aaxis\": {\"endlinecolor\": \"#2a3f5f\", \"gridcolor\": \"white\", \"linecolor\": \"white\", \"minorgridcolor\": \"white\", \"startlinecolor\": \"#2a3f5f\"}, \"baxis\": {\"endlinecolor\": \"#2a3f5f\", \"gridcolor\": \"white\", \"linecolor\": \"white\", \"minorgridcolor\": \"white\", \"startlinecolor\": \"#2a3f5f\"}, \"type\": \"carpet\"}], \"choropleth\": [{\"colorbar\": {\"outlinewidth\": 0, \"ticks\": \"\"}, \"type\": \"choropleth\"}], \"contour\": [{\"colorbar\": {\"outlinewidth\": 0, \"ticks\": \"\"}, \"colorscale\": [[0.0, \"#0d0887\"], [0.1111111111111111, \"#46039f\"], [0.2222222222222222, \"#7201a8\"], [0.3333333333333333, \"#9c179e\"], [0.4444444444444444, \"#bd3786\"], [0.5555555555555556, \"#d8576b\"], [0.6666666666666666, \"#ed7953\"], [0.7777777777777778, \"#fb9f3a\"], [0.8888888888888888, \"#fdca26\"], [1.0, \"#f0f921\"]], \"type\": \"contour\"}], \"contourcarpet\": [{\"colorbar\": {\"outlinewidth\": 0, \"ticks\": \"\"}, \"type\": \"contourcarpet\"}], \"heatmap\": [{\"colorbar\": {\"outlinewidth\": 0, \"ticks\": \"\"}, \"colorscale\": [[0.0, \"#0d0887\"], [0.1111111111111111, \"#46039f\"], [0.2222222222222222, \"#7201a8\"], [0.3333333333333333, \"#9c179e\"], [0.4444444444444444, \"#bd3786\"], [0.5555555555555556, \"#d8576b\"], [0.6666666666666666, \"#ed7953\"], [0.7777777777777778, \"#fb9f3a\"], [0.8888888888888888, \"#fdca26\"], [1.0, \"#f0f921\"]], \"type\": \"heatmap\"}], \"heatmapgl\": [{\"colorbar\": {\"outlinewidth\": 0, \"ticks\": \"\"}, \"colorscale\": [[0.0, \"#0d0887\"], [0.1111111111111111, \"#46039f\"], [0.2222222222222222, \"#7201a8\"], [0.3333333333333333, \"#9c179e\"], [0.4444444444444444, \"#bd3786\"], [0.5555555555555556, \"#d8576b\"], [0.6666666666666666, \"#ed7953\"], [0.7777777777777778, \"#fb9f3a\"], [0.8888888888888888, \"#fdca26\"], [1.0, \"#f0f921\"]], \"type\": \"heatmapgl\"}], \"histogram\": [{\"marker\": {\"colorbar\": {\"outlinewidth\": 0, \"ticks\": \"\"}}, \"type\": \"histogram\"}], \"histogram2d\": [{\"colorbar\": {\"outlinewidth\": 0, \"ticks\": \"\"}, \"colorscale\": [[0.0, \"#0d0887\"], [0.1111111111111111, \"#46039f\"], [0.2222222222222222, \"#7201a8\"], [0.3333333333333333, \"#9c179e\"], [0.4444444444444444, \"#bd3786\"], [0.5555555555555556, \"#d8576b\"], [0.6666666666666666, \"#ed7953\"], [0.7777777777777778, \"#fb9f3a\"], [0.8888888888888888, \"#fdca26\"], [1.0, \"#f0f921\"]], \"type\": \"histogram2d\"}], \"histogram2dcontour\": [{\"colorbar\": {\"outlinewidth\": 0, \"ticks\": \"\"}, \"colorscale\": [[0.0, \"#0d0887\"], [0.1111111111111111, \"#46039f\"], [0.2222222222222222, \"#7201a8\"], [0.3333333333333333, \"#9c179e\"], [0.4444444444444444, \"#bd3786\"], [0.5555555555555556, \"#d8576b\"], [0.6666666666666666, \"#ed7953\"], [0.7777777777777778, \"#fb9f3a\"], [0.8888888888888888, \"#fdca26\"], [1.0, \"#f0f921\"]], \"type\": \"histogram2dcontour\"}], \"mesh3d\": [{\"colorbar\": {\"outlinewidth\": 0, \"ticks\": \"\"}, \"type\": \"mesh3d\"}], \"parcoords\": [{\"line\": {\"colorbar\": {\"outlinewidth\": 0, \"ticks\": \"\"}}, \"type\": \"parcoords\"}], \"pie\": [{\"automargin\": true, \"type\": \"pie\"}], \"scatter\": [{\"marker\": {\"colorbar\": {\"outlinewidth\": 0, \"ticks\": \"\"}}, \"type\": \"scatter\"}], \"scatter3d\": [{\"line\": {\"colorbar\": {\"outlinewidth\": 0, \"ticks\": \"\"}}, \"marker\": {\"colorbar\": {\"outlinewidth\": 0, \"ticks\": \"\"}}, \"type\": \"scatter3d\"}], \"scattercarpet\": [{\"marker\": {\"colorbar\": {\"outlinewidth\": 0, \"ticks\": \"\"}}, \"type\": \"scattercarpet\"}], \"scattergeo\": [{\"marker\": {\"colorbar\": {\"outlinewidth\": 0, \"ticks\": \"\"}}, \"type\": \"scattergeo\"}], \"scattergl\": [{\"marker\": {\"colorbar\": {\"outlinewidth\": 0, \"ticks\": \"\"}}, \"type\": \"scattergl\"}], \"scattermapbox\": [{\"marker\": {\"colorbar\": {\"outlinewidth\": 0, \"ticks\": \"\"}}, \"type\": \"scattermapbox\"}], \"scatterpolar\": [{\"marker\": {\"colorbar\": {\"outlinewidth\": 0, \"ticks\": \"\"}}, \"type\": \"scatterpolar\"}], \"scatterpolargl\": [{\"marker\": {\"colorbar\": {\"outlinewidth\": 0, \"ticks\": \"\"}}, \"type\": \"scatterpolargl\"}], \"scatterternary\": [{\"marker\": {\"colorbar\": {\"outlinewidth\": 0, \"ticks\": \"\"}}, \"type\": \"scatterternary\"}], \"surface\": [{\"colorbar\": {\"outlinewidth\": 0, \"ticks\": \"\"}, \"colorscale\": [[0.0, \"#0d0887\"], [0.1111111111111111, \"#46039f\"], [0.2222222222222222, \"#7201a8\"], [0.3333333333333333, \"#9c179e\"], [0.4444444444444444, \"#bd3786\"], [0.5555555555555556, \"#d8576b\"], [0.6666666666666666, \"#ed7953\"], [0.7777777777777778, \"#fb9f3a\"], [0.8888888888888888, \"#fdca26\"], [1.0, \"#f0f921\"]], \"type\": \"surface\"}], \"table\": [{\"cells\": {\"fill\": {\"color\": \"#EBF0F8\"}, \"line\": {\"color\": \"white\"}}, \"header\": {\"fill\": {\"color\": \"#C8D4E3\"}, \"line\": {\"color\": \"white\"}}, \"type\": \"table\"}]}, \"layout\": {\"annotationdefaults\": {\"arrowcolor\": \"#2a3f5f\", \"arrowhead\": 0, \"arrowwidth\": 1}, \"coloraxis\": {\"colorbar\": {\"outlinewidth\": 0, \"ticks\": \"\"}}, \"colorscale\": {\"diverging\": [[0, \"#8e0152\"], [0.1, \"#c51b7d\"], [0.2, \"#de77ae\"], [0.3, \"#f1b6da\"], [0.4, \"#fde0ef\"], [0.5, \"#f7f7f7\"], [0.6, \"#e6f5d0\"], [0.7, \"#b8e186\"], [0.8, \"#7fbc41\"], [0.9, \"#4d9221\"], [1, \"#276419\"]], \"sequential\": [[0.0, \"#0d0887\"], [0.1111111111111111, \"#46039f\"], [0.2222222222222222, \"#7201a8\"], [0.3333333333333333, \"#9c179e\"], [0.4444444444444444, \"#bd3786\"], [0.5555555555555556, \"#d8576b\"], [0.6666666666666666, \"#ed7953\"], [0.7777777777777778, \"#fb9f3a\"], [0.8888888888888888, \"#fdca26\"], [1.0, \"#f0f921\"]], \"sequentialminus\": [[0.0, \"#0d0887\"], [0.1111111111111111, \"#46039f\"], [0.2222222222222222, \"#7201a8\"], [0.3333333333333333, \"#9c179e\"], [0.4444444444444444, \"#bd3786\"], [0.5555555555555556, \"#d8576b\"], [0.6666666666666666, \"#ed7953\"], [0.7777777777777778, \"#fb9f3a\"], [0.8888888888888888, \"#fdca26\"], [1.0, \"#f0f921\"]]}, \"colorway\": [\"#636efa\", \"#EF553B\", \"#00cc96\", \"#ab63fa\", \"#FFA15A\", \"#19d3f3\", \"#FF6692\", \"#B6E880\", \"#FF97FF\", \"#FECB52\"], \"font\": {\"color\": \"#2a3f5f\"}, \"geo\": {\"bgcolor\": \"white\", \"lakecolor\": \"white\", \"landcolor\": \"#E5ECF6\", \"showlakes\": true, \"showland\": true, \"subunitcolor\": \"white\"}, \"hoverlabel\": {\"align\": \"left\"}, \"hovermode\": \"closest\", \"mapbox\": {\"style\": \"light\"}, \"paper_bgcolor\": \"white\", \"plot_bgcolor\": \"#E5ECF6\", \"polar\": {\"angularaxis\": {\"gridcolor\": \"white\", \"linecolor\": \"white\", \"ticks\": \"\"}, \"bgcolor\": \"#E5ECF6\", \"radialaxis\": {\"gridcolor\": \"white\", \"linecolor\": \"white\", \"ticks\": \"\"}}, \"scene\": {\"xaxis\": {\"backgroundcolor\": \"#E5ECF6\", \"gridcolor\": \"white\", \"gridwidth\": 2, \"linecolor\": \"white\", \"showbackground\": true, \"ticks\": \"\", \"zerolinecolor\": \"white\"}, \"yaxis\": {\"backgroundcolor\": \"#E5ECF6\", \"gridcolor\": \"white\", \"gridwidth\": 2, \"linecolor\": \"white\", \"showbackground\": true, \"ticks\": \"\", \"zerolinecolor\": \"white\"}, \"zaxis\": {\"backgroundcolor\": \"#E5ECF6\", \"gridcolor\": \"white\", \"gridwidth\": 2, \"linecolor\": \"white\", \"showbackground\": true, \"ticks\": \"\", \"zerolinecolor\": \"white\"}}, \"shapedefaults\": {\"line\": {\"color\": \"#2a3f5f\"}}, \"ternary\": {\"aaxis\": {\"gridcolor\": \"white\", \"linecolor\": \"white\", \"ticks\": \"\"}, \"baxis\": {\"gridcolor\": \"white\", \"linecolor\": \"white\", \"ticks\": \"\"}, \"bgcolor\": \"#E5ECF6\", \"caxis\": {\"gridcolor\": \"white\", \"linecolor\": \"white\", \"ticks\": \"\"}}, \"title\": {\"x\": 0.05}, \"xaxis\": {\"automargin\": true, \"gridcolor\": \"white\", \"linecolor\": \"white\", \"ticks\": \"\", \"title\": {\"standoff\": 15}, \"zerolinecolor\": \"white\", \"zerolinewidth\": 2}, \"yaxis\": {\"automargin\": true, \"gridcolor\": \"white\", \"linecolor\": \"white\", \"ticks\": \"\", \"title\": {\"standoff\": 15}, \"zerolinecolor\": \"white\", \"zerolinewidth\": 2}}}, \"xaxis\": {\"anchor\": \"y\", \"domain\": [0.0, 1.0], \"title\": {\"text\": \"x\"}}, \"yaxis\": {\"anchor\": \"x\", \"domain\": [0.0, 1.0], \"title\": {\"text\": \"percentage\"}}},\n",
              "                        {\"responsive\": true}\n",
              "                    ).then(function(){\n",
              "                            \n",
              "var gd = document.getElementById('2785d8b6-b05d-4a24-a952-cfc264cd4752');\n",
              "var x = new MutationObserver(function (mutations, observer) {{\n",
              "        var display = window.getComputedStyle(gd).display;\n",
              "        if (!display || display === 'none') {{\n",
              "            console.log([gd, 'removed!']);\n",
              "            Plotly.purge(gd);\n",
              "            observer.disconnect();\n",
              "        }}\n",
              "}});\n",
              "\n",
              "// Listen for the removal of the full notebook cells\n",
              "var notebookContainer = gd.closest('#notebook-container');\n",
              "if (notebookContainer) {{\n",
              "    x.observe(notebookContainer, {childList: true});\n",
              "}}\n",
              "\n",
              "// Listen for the clearing of the current output cell\n",
              "var outputEl = gd.closest('.output');\n",
              "if (outputEl) {{\n",
              "    x.observe(outputEl, {childList: true});\n",
              "}}\n",
              "\n",
              "                        })\n",
              "                };\n",
              "                \n",
              "            </script>\n",
              "        </div>\n",
              "</body>\n",
              "</html>"
            ]
          },
          "metadata": {
            "tags": []
          }
        }
      ]
    },
    {
      "cell_type": "markdown",
      "metadata": {
        "id": "OfMhnUOKTaZp"
      },
      "source": [
        "# Modifying dataset"
      ]
    },
    {
      "cell_type": "markdown",
      "metadata": {
        "id": "L23N8Btw8mub"
      },
      "source": [
        "Create the new columns (Boolean type).\n",
        "\n",
        "Column will have 'True' if it has descriptions and will have 'False' if it does not have a word in descriptions."
      ]
    },
    {
      "cell_type": "code",
      "metadata": {
        "id": "riCQmOTsH_bA"
      },
      "source": [
        "df['python'] = df['Job Description'].str.contains('python')\n",
        "df['phd'] = df['Job Description'].str.contains('phd')\n",
        "df['sas'] = df['Job Description'].str.contains('sas')\n",
        "df['sql'] = df['Job Description'].str.contains('sql')\n",
        "df['tableau'] = df['Job Description'].str.contains('tableau')\n",
        "df['r'] = df['Job Description'].str.contains('r')\n",
        "df['algorithms'] = df['Job Description'].str.contains('algorithms')\n",
        "df['visualization'] = df['Job Description'].str.contains('visualization')\n",
        "df['spark'] = df['Job Description'].str.contains('spark')\n",
        "df['masters'] = df['Job Description'].str.contains('masters')\n",
        "df['aws'] = df['Job Description'].str.contains('aws')\n",
        "df['excel'] = df['Job Description'].str.contains('excel')\n",
        "df['agile'] = df['Job Description'].str.contains('agile')\n",
        "df['optimization'] = df['Job Description'].str.contains('optimization')\n",
        "df['optimize'] = df['Job Description'].str.contains('optimize')\n",
        "df['tensorflow'] = df['Job Description'].str.contains('tensorflow')\n",
        "df['excel'] = df['Job Description'].str.contains('excel')\n",
        "df['nosql'] = df['Job Description'].str.contains('nosql')\n",
        "df['hadoop'] = df['Job Description'].str.contains('hadoop')\n",
        "df['scikitlearn'] = df['Job Description'].str.contains('scikitlearn')\n",
        "df['nlp'] = df['Job Description'].str.contains('nlp')\n",
        "\n",
        "# If title includes sr\n",
        "df['sr'] = df['Job Title'].str.lower().str.contains('sr')"
      ],
      "execution_count": 27,
      "outputs": []
    },
    {
      "cell_type": "markdown",
      "metadata": {
        "id": "dxnm-_hW9CSn"
      },
      "source": [
        "Dataset provides the salary by the range (LOW-HIGH).\n",
        "\n",
        "Divide that range into two columns, clear some text data for the analysis.\n"
      ]
    },
    {
      "cell_type": "code",
      "metadata": {
        "id": "CTJrfObeJ4ep"
      },
      "source": [
        "df['low_salary'] = df['Salary Estimate'].str.split('-').str[0]\n",
        "df['high_salary'] = df['Salary Estimate'].str.split('-').str[1]\n",
        "df['high_salary'] = df['high_salary'].str.split(\" \").str[0]\n",
        "df['high_salary'] = df['high_salary'].str[:3]\n",
        "\n",
        "df['Company Name'] = df['Company Name'].str.split('\\n').str[0]\n",
        "df['Location'] = df['Location'].str.split('\\n').str[0]\n",
        "\n",
        "# Create the new columns (State)\n",
        "df['state'] = df['Location'].str.split(', ').str[1]"
      ],
      "execution_count": 28,
      "outputs": []
    },
    {
      "cell_type": "markdown",
      "metadata": {
        "id": "G_L-8El_9dmT"
      },
      "source": [
        "Drop some variables that are not needed for the analysis"
      ]
    },
    {
      "cell_type": "code",
      "metadata": {
        "id": "zPCVGXtmKzjg"
      },
      "source": [
        "df.drop(['Job Description', 'Salary Estimate'], axis=1, inplace = True)"
      ],
      "execution_count": 29,
      "outputs": []
    },
    {
      "cell_type": "markdown",
      "metadata": {
        "id": "RTOWNlJ59hY8"
      },
      "source": [
        "If the cell contains the 'True' then convert them into '1' (if it contains 'False' then '0')"
      ]
    },
    {
      "cell_type": "code",
      "metadata": {
        "id": "FC-6oS9lMfD5"
      },
      "source": [
        "df = df.applymap(lambda x: 1 if x == True else x)\n",
        "df = df.applymap(lambda x: 0 if x == False else x)"
      ],
      "execution_count": 30,
      "outputs": []
    },
    {
      "cell_type": "markdown",
      "metadata": {
        "id": "7xG5uM1YV3Cz"
      },
      "source": [
        "# Get Information"
      ]
    },
    {
      "cell_type": "markdown",
      "metadata": {
        "id": "t8sCWPlE9xCe"
      },
      "source": [
        "Create the new dataframe that "
      ]
    },
    {
      "cell_type": "code",
      "metadata": {
        "id": "tafD2PBkT9bn"
      },
      "source": [
        "dfc = df.groupby(['state']).size().to_frame().sort_values([0], ascending = False).reset_index()\n",
        "dfc.rename(columns={0:'count'}, inplace=True)"
      ],
      "execution_count": 31,
      "outputs": []
    },
    {
      "cell_type": "code",
      "metadata": {
        "id": "4MruNpT9tiTU",
        "colab": {
          "base_uri": "https://localhost:8080/",
          "height": 542
        },
        "outputId": "655e2ef4-e209-4ae1-bb3b-4b5799035bc7"
      },
      "source": [
        "import plotly.express as px\n",
        "\n",
        "dfg = df.groupby(['state']).size().to_frame().sort_values([0], ascending = False).head(10).reset_index()\n",
        "dfg.rename(columns={0:'count'}, inplace=True)\n",
        "dfg['percentage'] = dfg['count'] / len(df.index) * 100\n",
        "fig = px.bar(dfg, x='state', y = 'percentage')\n",
        "\n",
        "fig.show()"
      ],
      "execution_count": 32,
      "outputs": [
        {
          "output_type": "display_data",
          "data": {
            "text/html": [
              "<html>\n",
              "<head><meta charset=\"utf-8\" /></head>\n",
              "<body>\n",
              "    <div>\n",
              "            <script src=\"https://cdnjs.cloudflare.com/ajax/libs/mathjax/2.7.5/MathJax.js?config=TeX-AMS-MML_SVG\"></script><script type=\"text/javascript\">if (window.MathJax) {MathJax.Hub.Config({SVG: {font: \"STIX-Web\"}});}</script>\n",
              "                <script type=\"text/javascript\">window.PlotlyConfig = {MathJaxConfig: 'local'};</script>\n",
              "        <script src=\"https://cdn.plot.ly/plotly-latest.min.js\"></script>    \n",
              "            <div id=\"a69eb924-3b5e-478c-a6fd-8249d5743690\" class=\"plotly-graph-div\" style=\"height:525px; width:100%;\"></div>\n",
              "            <script type=\"text/javascript\">\n",
              "                \n",
              "                    window.PLOTLYENV=window.PLOTLYENV || {};\n",
              "                    \n",
              "                if (document.getElementById(\"a69eb924-3b5e-478c-a6fd-8249d5743690\")) {\n",
              "                    Plotly.newPlot(\n",
              "                        'a69eb924-3b5e-478c-a6fd-8249d5743690',\n",
              "                        [{\"alignmentgroup\": \"True\", \"hoverlabel\": {\"namelength\": 0}, \"hovertemplate\": \"state=%{x}<br>percentage=%{y}\", \"legendgroup\": \"\", \"marker\": {\"color\": \"#636efa\"}, \"name\": \"\", \"offsetgroup\": \"\", \"orientation\": \"v\", \"showlegend\": false, \"textposition\": \"auto\", \"type\": \"bar\", \"x\": [\"CA\", \"VA\", \"MA\", \"NY\", \"MD\", \"IL\", \"DC\", \"TX\", \"WA\", \"OH\"], \"xaxis\": \"x\", \"y\": [24.553571428571427, 13.244047619047619, 9.226190476190476, 7.738095238095238, 5.803571428571429, 4.464285714285714, 3.869047619047619, 2.5297619047619047, 2.380952380952381, 2.083333333333333], \"yaxis\": \"y\"}],\n",
              "                        {\"barmode\": \"relative\", \"legend\": {\"tracegroupgap\": 0}, \"margin\": {\"t\": 60}, \"template\": {\"data\": {\"bar\": [{\"error_x\": {\"color\": \"#2a3f5f\"}, \"error_y\": {\"color\": \"#2a3f5f\"}, \"marker\": {\"line\": {\"color\": \"#E5ECF6\", \"width\": 0.5}}, \"type\": \"bar\"}], \"barpolar\": [{\"marker\": {\"line\": {\"color\": \"#E5ECF6\", \"width\": 0.5}}, \"type\": \"barpolar\"}], \"carpet\": [{\"aaxis\": {\"endlinecolor\": \"#2a3f5f\", \"gridcolor\": \"white\", \"linecolor\": \"white\", \"minorgridcolor\": \"white\", \"startlinecolor\": \"#2a3f5f\"}, \"baxis\": {\"endlinecolor\": \"#2a3f5f\", \"gridcolor\": \"white\", \"linecolor\": \"white\", \"minorgridcolor\": \"white\", \"startlinecolor\": \"#2a3f5f\"}, \"type\": \"carpet\"}], \"choropleth\": [{\"colorbar\": {\"outlinewidth\": 0, \"ticks\": \"\"}, \"type\": \"choropleth\"}], \"contour\": [{\"colorbar\": {\"outlinewidth\": 0, \"ticks\": \"\"}, \"colorscale\": [[0.0, \"#0d0887\"], [0.1111111111111111, \"#46039f\"], [0.2222222222222222, \"#7201a8\"], [0.3333333333333333, \"#9c179e\"], [0.4444444444444444, \"#bd3786\"], [0.5555555555555556, \"#d8576b\"], [0.6666666666666666, \"#ed7953\"], [0.7777777777777778, \"#fb9f3a\"], [0.8888888888888888, \"#fdca26\"], [1.0, \"#f0f921\"]], \"type\": \"contour\"}], \"contourcarpet\": [{\"colorbar\": {\"outlinewidth\": 0, \"ticks\": \"\"}, \"type\": \"contourcarpet\"}], \"heatmap\": [{\"colorbar\": {\"outlinewidth\": 0, \"ticks\": \"\"}, \"colorscale\": [[0.0, \"#0d0887\"], [0.1111111111111111, \"#46039f\"], [0.2222222222222222, \"#7201a8\"], [0.3333333333333333, \"#9c179e\"], [0.4444444444444444, \"#bd3786\"], [0.5555555555555556, \"#d8576b\"], [0.6666666666666666, \"#ed7953\"], [0.7777777777777778, \"#fb9f3a\"], [0.8888888888888888, \"#fdca26\"], [1.0, \"#f0f921\"]], \"type\": \"heatmap\"}], \"heatmapgl\": [{\"colorbar\": {\"outlinewidth\": 0, \"ticks\": \"\"}, \"colorscale\": [[0.0, \"#0d0887\"], [0.1111111111111111, \"#46039f\"], [0.2222222222222222, \"#7201a8\"], [0.3333333333333333, \"#9c179e\"], [0.4444444444444444, \"#bd3786\"], [0.5555555555555556, \"#d8576b\"], [0.6666666666666666, \"#ed7953\"], [0.7777777777777778, \"#fb9f3a\"], [0.8888888888888888, \"#fdca26\"], [1.0, \"#f0f921\"]], \"type\": \"heatmapgl\"}], \"histogram\": [{\"marker\": {\"colorbar\": {\"outlinewidth\": 0, \"ticks\": \"\"}}, \"type\": \"histogram\"}], \"histogram2d\": [{\"colorbar\": {\"outlinewidth\": 0, \"ticks\": \"\"}, \"colorscale\": [[0.0, \"#0d0887\"], [0.1111111111111111, \"#46039f\"], [0.2222222222222222, \"#7201a8\"], [0.3333333333333333, \"#9c179e\"], [0.4444444444444444, \"#bd3786\"], [0.5555555555555556, \"#d8576b\"], [0.6666666666666666, \"#ed7953\"], [0.7777777777777778, \"#fb9f3a\"], [0.8888888888888888, \"#fdca26\"], [1.0, \"#f0f921\"]], \"type\": \"histogram2d\"}], \"histogram2dcontour\": [{\"colorbar\": {\"outlinewidth\": 0, \"ticks\": \"\"}, \"colorscale\": [[0.0, \"#0d0887\"], [0.1111111111111111, \"#46039f\"], [0.2222222222222222, \"#7201a8\"], [0.3333333333333333, \"#9c179e\"], [0.4444444444444444, \"#bd3786\"], [0.5555555555555556, \"#d8576b\"], [0.6666666666666666, \"#ed7953\"], [0.7777777777777778, \"#fb9f3a\"], [0.8888888888888888, \"#fdca26\"], [1.0, \"#f0f921\"]], \"type\": \"histogram2dcontour\"}], \"mesh3d\": [{\"colorbar\": {\"outlinewidth\": 0, \"ticks\": \"\"}, \"type\": \"mesh3d\"}], \"parcoords\": [{\"line\": {\"colorbar\": {\"outlinewidth\": 0, \"ticks\": \"\"}}, \"type\": \"parcoords\"}], \"pie\": [{\"automargin\": true, \"type\": \"pie\"}], \"scatter\": [{\"marker\": {\"colorbar\": {\"outlinewidth\": 0, \"ticks\": \"\"}}, \"type\": \"scatter\"}], \"scatter3d\": [{\"line\": {\"colorbar\": {\"outlinewidth\": 0, \"ticks\": \"\"}}, \"marker\": {\"colorbar\": {\"outlinewidth\": 0, \"ticks\": \"\"}}, \"type\": \"scatter3d\"}], \"scattercarpet\": [{\"marker\": {\"colorbar\": {\"outlinewidth\": 0, \"ticks\": \"\"}}, \"type\": \"scattercarpet\"}], \"scattergeo\": [{\"marker\": {\"colorbar\": {\"outlinewidth\": 0, \"ticks\": \"\"}}, \"type\": \"scattergeo\"}], \"scattergl\": [{\"marker\": {\"colorbar\": {\"outlinewidth\": 0, \"ticks\": \"\"}}, \"type\": \"scattergl\"}], \"scattermapbox\": [{\"marker\": {\"colorbar\": {\"outlinewidth\": 0, \"ticks\": \"\"}}, \"type\": \"scattermapbox\"}], \"scatterpolar\": [{\"marker\": {\"colorbar\": {\"outlinewidth\": 0, \"ticks\": \"\"}}, \"type\": \"scatterpolar\"}], \"scatterpolargl\": [{\"marker\": {\"colorbar\": {\"outlinewidth\": 0, \"ticks\": \"\"}}, \"type\": \"scatterpolargl\"}], \"scatterternary\": [{\"marker\": {\"colorbar\": {\"outlinewidth\": 0, \"ticks\": \"\"}}, \"type\": \"scatterternary\"}], \"surface\": [{\"colorbar\": {\"outlinewidth\": 0, \"ticks\": \"\"}, \"colorscale\": [[0.0, \"#0d0887\"], [0.1111111111111111, \"#46039f\"], [0.2222222222222222, \"#7201a8\"], [0.3333333333333333, \"#9c179e\"], [0.4444444444444444, \"#bd3786\"], [0.5555555555555556, \"#d8576b\"], [0.6666666666666666, \"#ed7953\"], [0.7777777777777778, \"#fb9f3a\"], [0.8888888888888888, \"#fdca26\"], [1.0, \"#f0f921\"]], \"type\": \"surface\"}], \"table\": [{\"cells\": {\"fill\": {\"color\": \"#EBF0F8\"}, \"line\": {\"color\": \"white\"}}, \"header\": {\"fill\": {\"color\": \"#C8D4E3\"}, \"line\": {\"color\": \"white\"}}, \"type\": \"table\"}]}, \"layout\": {\"annotationdefaults\": {\"arrowcolor\": \"#2a3f5f\", \"arrowhead\": 0, \"arrowwidth\": 1}, \"coloraxis\": {\"colorbar\": {\"outlinewidth\": 0, \"ticks\": \"\"}}, \"colorscale\": {\"diverging\": [[0, \"#8e0152\"], [0.1, \"#c51b7d\"], [0.2, \"#de77ae\"], [0.3, \"#f1b6da\"], [0.4, \"#fde0ef\"], [0.5, \"#f7f7f7\"], [0.6, \"#e6f5d0\"], [0.7, \"#b8e186\"], [0.8, \"#7fbc41\"], [0.9, \"#4d9221\"], [1, \"#276419\"]], \"sequential\": [[0.0, \"#0d0887\"], [0.1111111111111111, \"#46039f\"], [0.2222222222222222, \"#7201a8\"], [0.3333333333333333, \"#9c179e\"], [0.4444444444444444, \"#bd3786\"], [0.5555555555555556, \"#d8576b\"], [0.6666666666666666, \"#ed7953\"], [0.7777777777777778, \"#fb9f3a\"], [0.8888888888888888, \"#fdca26\"], [1.0, \"#f0f921\"]], \"sequentialminus\": [[0.0, \"#0d0887\"], [0.1111111111111111, \"#46039f\"], [0.2222222222222222, \"#7201a8\"], [0.3333333333333333, \"#9c179e\"], [0.4444444444444444, \"#bd3786\"], [0.5555555555555556, \"#d8576b\"], [0.6666666666666666, \"#ed7953\"], [0.7777777777777778, \"#fb9f3a\"], [0.8888888888888888, \"#fdca26\"], [1.0, \"#f0f921\"]]}, \"colorway\": [\"#636efa\", \"#EF553B\", \"#00cc96\", \"#ab63fa\", \"#FFA15A\", \"#19d3f3\", \"#FF6692\", \"#B6E880\", \"#FF97FF\", \"#FECB52\"], \"font\": {\"color\": \"#2a3f5f\"}, \"geo\": {\"bgcolor\": \"white\", \"lakecolor\": \"white\", \"landcolor\": \"#E5ECF6\", \"showlakes\": true, \"showland\": true, \"subunitcolor\": \"white\"}, \"hoverlabel\": {\"align\": \"left\"}, \"hovermode\": \"closest\", \"mapbox\": {\"style\": \"light\"}, \"paper_bgcolor\": \"white\", \"plot_bgcolor\": \"#E5ECF6\", \"polar\": {\"angularaxis\": {\"gridcolor\": \"white\", \"linecolor\": \"white\", \"ticks\": \"\"}, \"bgcolor\": \"#E5ECF6\", \"radialaxis\": {\"gridcolor\": \"white\", \"linecolor\": \"white\", \"ticks\": \"\"}}, \"scene\": {\"xaxis\": {\"backgroundcolor\": \"#E5ECF6\", \"gridcolor\": \"white\", \"gridwidth\": 2, \"linecolor\": \"white\", \"showbackground\": true, \"ticks\": \"\", \"zerolinecolor\": \"white\"}, \"yaxis\": {\"backgroundcolor\": \"#E5ECF6\", \"gridcolor\": \"white\", \"gridwidth\": 2, \"linecolor\": \"white\", \"showbackground\": true, \"ticks\": \"\", \"zerolinecolor\": \"white\"}, \"zaxis\": {\"backgroundcolor\": \"#E5ECF6\", \"gridcolor\": \"white\", \"gridwidth\": 2, \"linecolor\": \"white\", \"showbackground\": true, \"ticks\": \"\", \"zerolinecolor\": \"white\"}}, \"shapedefaults\": {\"line\": {\"color\": \"#2a3f5f\"}}, \"ternary\": {\"aaxis\": {\"gridcolor\": \"white\", \"linecolor\": \"white\", \"ticks\": \"\"}, \"baxis\": {\"gridcolor\": \"white\", \"linecolor\": \"white\", \"ticks\": \"\"}, \"bgcolor\": \"#E5ECF6\", \"caxis\": {\"gridcolor\": \"white\", \"linecolor\": \"white\", \"ticks\": \"\"}}, \"title\": {\"x\": 0.05}, \"xaxis\": {\"automargin\": true, \"gridcolor\": \"white\", \"linecolor\": \"white\", \"ticks\": \"\", \"title\": {\"standoff\": 15}, \"zerolinecolor\": \"white\", \"zerolinewidth\": 2}, \"yaxis\": {\"automargin\": true, \"gridcolor\": \"white\", \"linecolor\": \"white\", \"ticks\": \"\", \"title\": {\"standoff\": 15}, \"zerolinecolor\": \"white\", \"zerolinewidth\": 2}}}, \"xaxis\": {\"anchor\": \"y\", \"domain\": [0.0, 1.0], \"title\": {\"text\": \"state\"}}, \"yaxis\": {\"anchor\": \"x\", \"domain\": [0.0, 1.0], \"title\": {\"text\": \"percentage\"}}},\n",
              "                        {\"responsive\": true}\n",
              "                    ).then(function(){\n",
              "                            \n",
              "var gd = document.getElementById('a69eb924-3b5e-478c-a6fd-8249d5743690');\n",
              "var x = new MutationObserver(function (mutations, observer) {{\n",
              "        var display = window.getComputedStyle(gd).display;\n",
              "        if (!display || display === 'none') {{\n",
              "            console.log([gd, 'removed!']);\n",
              "            Plotly.purge(gd);\n",
              "            observer.disconnect();\n",
              "        }}\n",
              "}});\n",
              "\n",
              "// Listen for the removal of the full notebook cells\n",
              "var notebookContainer = gd.closest('#notebook-container');\n",
              "if (notebookContainer) {{\n",
              "    x.observe(notebookContainer, {childList: true});\n",
              "}}\n",
              "\n",
              "// Listen for the clearing of the current output cell\n",
              "var outputEl = gd.closest('.output');\n",
              "if (outputEl) {{\n",
              "    x.observe(outputEl, {childList: true});\n",
              "}}\n",
              "\n",
              "                        })\n",
              "                };\n",
              "                \n",
              "            </script>\n",
              "        </div>\n",
              "</body>\n",
              "</html>"
            ]
          },
          "metadata": {
            "tags": []
          }
        }
      ]
    },
    {
      "cell_type": "code",
      "metadata": {
        "id": "sBoEkB3zZytA"
      },
      "source": [
        "df2 = pd.DataFrame(data=[['CA', df.loc[df['state'] == 'CA', 'high_salary'].median(), df.loc[df['state'] == 'CA', 'low_salary'].median()],\n",
        "                         ['VA', df.loc[df['state'] == 'VA', 'high_salary'].median(), df.loc[df['state'] == 'VA', 'low_salary'].median()],\n",
        "                         ['MA', df.loc[df['state'] == 'MA', 'high_salary'].median(), df.loc[df['state'] == 'MA', 'low_salary'].median()],\n",
        "                         ['NY', df.loc[df['state'] == 'NY', 'high_salary'].median(), df.loc[df['state'] == 'NY', 'low_salary'].median()],\n",
        "                         ['MD', df.loc[df['state'] == 'MD', 'high_salary'].median(), df.loc[df['state'] == 'MD', 'low_salary'].median()],\n",
        "                         ['IL', df.loc[df['state'] == 'IL', 'high_salary'].median(), df.loc[df['state'] == 'IL', 'low_salary'].median()],\n",
        "                         ['DC', df.loc[df['state'] == 'DC', 'high_salary'].median(), df.loc[df['state'] == 'DC', 'low_salary'].median()],\n",
        "                         ['TX', df.loc[df['state'] == 'TX', 'high_salary'].median(), df.loc[df['state'] == 'TX', 'low_salary'].median()],\n",
        "                         ['WA', df.loc[df['state'] == 'WA', 'high_salary'].median(), df.loc[df['state'] == 'WA', 'low_salary'].median()],\n",
        "                         ['OH', df.loc[df['state'] == 'OH', 'high_salary'].median(), df.loc[df['state'] == 'OH', 'low_salary'].median()]],\n",
        "                   columns=['state','high','low' ])"
      ],
      "execution_count": 33,
      "outputs": []
    },
    {
      "cell_type": "code",
      "metadata": {
        "id": "WSXZNMIWbZOW",
        "colab": {
          "base_uri": "https://localhost:8080/",
          "height": 542
        },
        "outputId": "41f27b3e-33e6-44f8-f773-055624e9de88"
      },
      "source": [
        "import plotly.express as px\n",
        "\n",
        "fig = px.bar(df2, x='state', y = 'high')\n",
        "\n",
        "fig.show()"
      ],
      "execution_count": 34,
      "outputs": [
        {
          "output_type": "display_data",
          "data": {
            "text/html": [
              "<html>\n",
              "<head><meta charset=\"utf-8\" /></head>\n",
              "<body>\n",
              "    <div>\n",
              "            <script src=\"https://cdnjs.cloudflare.com/ajax/libs/mathjax/2.7.5/MathJax.js?config=TeX-AMS-MML_SVG\"></script><script type=\"text/javascript\">if (window.MathJax) {MathJax.Hub.Config({SVG: {font: \"STIX-Web\"}});}</script>\n",
              "                <script type=\"text/javascript\">window.PlotlyConfig = {MathJaxConfig: 'local'};</script>\n",
              "        <script src=\"https://cdn.plot.ly/plotly-latest.min.js\"></script>    \n",
              "            <div id=\"336c79db-5aa6-4818-9aaf-f0cc00161ceb\" class=\"plotly-graph-div\" style=\"height:525px; width:100%;\"></div>\n",
              "            <script type=\"text/javascript\">\n",
              "                \n",
              "                    window.PLOTLYENV=window.PLOTLYENV || {};\n",
              "                    \n",
              "                if (document.getElementById(\"336c79db-5aa6-4818-9aaf-f0cc00161ceb\")) {\n",
              "                    Plotly.newPlot(\n",
              "                        '336c79db-5aa6-4818-9aaf-f0cc00161ceb',\n",
              "                        [{\"alignmentgroup\": \"True\", \"hoverlabel\": {\"namelength\": 0}, \"hovertemplate\": \"state=%{x}<br>high=%{y}\", \"legendgroup\": \"\", \"marker\": {\"color\": \"#636efa\"}, \"name\": \"\", \"offsetgroup\": \"\", \"orientation\": \"v\", \"showlegend\": false, \"textposition\": \"auto\", \"type\": \"bar\", \"x\": [\"CA\", \"VA\", \"MA\", \"NY\", \"MD\", \"IL\", \"DC\", \"TX\", \"WA\", \"OH\"], \"xaxis\": \"x\", \"y\": [132.0, 146.0, 131.0, 148.5, 132.0, 144.0, 132.0, 141.0, 148.5, 132.0], \"yaxis\": \"y\"}],\n",
              "                        {\"barmode\": \"relative\", \"legend\": {\"tracegroupgap\": 0}, \"margin\": {\"t\": 60}, \"template\": {\"data\": {\"bar\": [{\"error_x\": {\"color\": \"#2a3f5f\"}, \"error_y\": {\"color\": \"#2a3f5f\"}, \"marker\": {\"line\": {\"color\": \"#E5ECF6\", \"width\": 0.5}}, \"type\": \"bar\"}], \"barpolar\": [{\"marker\": {\"line\": {\"color\": \"#E5ECF6\", \"width\": 0.5}}, \"type\": \"barpolar\"}], \"carpet\": [{\"aaxis\": {\"endlinecolor\": \"#2a3f5f\", \"gridcolor\": \"white\", \"linecolor\": \"white\", \"minorgridcolor\": \"white\", \"startlinecolor\": \"#2a3f5f\"}, \"baxis\": {\"endlinecolor\": \"#2a3f5f\", \"gridcolor\": \"white\", \"linecolor\": \"white\", \"minorgridcolor\": \"white\", \"startlinecolor\": \"#2a3f5f\"}, \"type\": \"carpet\"}], \"choropleth\": [{\"colorbar\": {\"outlinewidth\": 0, \"ticks\": \"\"}, \"type\": \"choropleth\"}], \"contour\": [{\"colorbar\": {\"outlinewidth\": 0, \"ticks\": \"\"}, \"colorscale\": [[0.0, \"#0d0887\"], [0.1111111111111111, \"#46039f\"], [0.2222222222222222, \"#7201a8\"], [0.3333333333333333, \"#9c179e\"], [0.4444444444444444, \"#bd3786\"], [0.5555555555555556, \"#d8576b\"], [0.6666666666666666, \"#ed7953\"], [0.7777777777777778, \"#fb9f3a\"], [0.8888888888888888, \"#fdca26\"], [1.0, \"#f0f921\"]], \"type\": \"contour\"}], \"contourcarpet\": [{\"colorbar\": {\"outlinewidth\": 0, \"ticks\": \"\"}, \"type\": \"contourcarpet\"}], \"heatmap\": [{\"colorbar\": {\"outlinewidth\": 0, \"ticks\": \"\"}, \"colorscale\": [[0.0, \"#0d0887\"], [0.1111111111111111, \"#46039f\"], [0.2222222222222222, \"#7201a8\"], [0.3333333333333333, \"#9c179e\"], [0.4444444444444444, \"#bd3786\"], [0.5555555555555556, \"#d8576b\"], [0.6666666666666666, \"#ed7953\"], [0.7777777777777778, \"#fb9f3a\"], [0.8888888888888888, \"#fdca26\"], [1.0, \"#f0f921\"]], \"type\": \"heatmap\"}], \"heatmapgl\": [{\"colorbar\": {\"outlinewidth\": 0, \"ticks\": \"\"}, \"colorscale\": [[0.0, \"#0d0887\"], [0.1111111111111111, \"#46039f\"], [0.2222222222222222, \"#7201a8\"], [0.3333333333333333, \"#9c179e\"], [0.4444444444444444, \"#bd3786\"], [0.5555555555555556, \"#d8576b\"], [0.6666666666666666, \"#ed7953\"], [0.7777777777777778, \"#fb9f3a\"], [0.8888888888888888, \"#fdca26\"], [1.0, \"#f0f921\"]], \"type\": \"heatmapgl\"}], \"histogram\": [{\"marker\": {\"colorbar\": {\"outlinewidth\": 0, \"ticks\": \"\"}}, \"type\": \"histogram\"}], \"histogram2d\": [{\"colorbar\": {\"outlinewidth\": 0, \"ticks\": \"\"}, \"colorscale\": [[0.0, \"#0d0887\"], [0.1111111111111111, \"#46039f\"], [0.2222222222222222, \"#7201a8\"], [0.3333333333333333, \"#9c179e\"], [0.4444444444444444, \"#bd3786\"], [0.5555555555555556, \"#d8576b\"], [0.6666666666666666, \"#ed7953\"], [0.7777777777777778, \"#fb9f3a\"], [0.8888888888888888, \"#fdca26\"], [1.0, \"#f0f921\"]], \"type\": \"histogram2d\"}], \"histogram2dcontour\": [{\"colorbar\": {\"outlinewidth\": 0, \"ticks\": \"\"}, \"colorscale\": [[0.0, \"#0d0887\"], [0.1111111111111111, \"#46039f\"], [0.2222222222222222, \"#7201a8\"], [0.3333333333333333, \"#9c179e\"], [0.4444444444444444, \"#bd3786\"], [0.5555555555555556, \"#d8576b\"], [0.6666666666666666, \"#ed7953\"], [0.7777777777777778, \"#fb9f3a\"], [0.8888888888888888, \"#fdca26\"], [1.0, \"#f0f921\"]], \"type\": \"histogram2dcontour\"}], \"mesh3d\": [{\"colorbar\": {\"outlinewidth\": 0, \"ticks\": \"\"}, \"type\": \"mesh3d\"}], \"parcoords\": [{\"line\": {\"colorbar\": {\"outlinewidth\": 0, \"ticks\": \"\"}}, \"type\": \"parcoords\"}], \"pie\": [{\"automargin\": true, \"type\": \"pie\"}], \"scatter\": [{\"marker\": {\"colorbar\": {\"outlinewidth\": 0, \"ticks\": \"\"}}, \"type\": \"scatter\"}], \"scatter3d\": [{\"line\": {\"colorbar\": {\"outlinewidth\": 0, \"ticks\": \"\"}}, \"marker\": {\"colorbar\": {\"outlinewidth\": 0, \"ticks\": \"\"}}, \"type\": \"scatter3d\"}], \"scattercarpet\": [{\"marker\": {\"colorbar\": {\"outlinewidth\": 0, \"ticks\": \"\"}}, \"type\": \"scattercarpet\"}], \"scattergeo\": [{\"marker\": {\"colorbar\": {\"outlinewidth\": 0, \"ticks\": \"\"}}, \"type\": \"scattergeo\"}], \"scattergl\": [{\"marker\": {\"colorbar\": {\"outlinewidth\": 0, \"ticks\": \"\"}}, \"type\": \"scattergl\"}], \"scattermapbox\": [{\"marker\": {\"colorbar\": {\"outlinewidth\": 0, \"ticks\": \"\"}}, \"type\": \"scattermapbox\"}], \"scatterpolar\": [{\"marker\": {\"colorbar\": {\"outlinewidth\": 0, \"ticks\": \"\"}}, \"type\": \"scatterpolar\"}], \"scatterpolargl\": [{\"marker\": {\"colorbar\": {\"outlinewidth\": 0, \"ticks\": \"\"}}, \"type\": \"scatterpolargl\"}], \"scatterternary\": [{\"marker\": {\"colorbar\": {\"outlinewidth\": 0, \"ticks\": \"\"}}, \"type\": \"scatterternary\"}], \"surface\": [{\"colorbar\": {\"outlinewidth\": 0, \"ticks\": \"\"}, \"colorscale\": [[0.0, \"#0d0887\"], [0.1111111111111111, \"#46039f\"], [0.2222222222222222, \"#7201a8\"], [0.3333333333333333, \"#9c179e\"], [0.4444444444444444, \"#bd3786\"], [0.5555555555555556, \"#d8576b\"], [0.6666666666666666, \"#ed7953\"], [0.7777777777777778, \"#fb9f3a\"], [0.8888888888888888, \"#fdca26\"], [1.0, \"#f0f921\"]], \"type\": \"surface\"}], \"table\": [{\"cells\": {\"fill\": {\"color\": \"#EBF0F8\"}, \"line\": {\"color\": \"white\"}}, \"header\": {\"fill\": {\"color\": \"#C8D4E3\"}, \"line\": {\"color\": \"white\"}}, \"type\": \"table\"}]}, \"layout\": {\"annotationdefaults\": {\"arrowcolor\": \"#2a3f5f\", \"arrowhead\": 0, \"arrowwidth\": 1}, \"coloraxis\": {\"colorbar\": {\"outlinewidth\": 0, \"ticks\": \"\"}}, \"colorscale\": {\"diverging\": [[0, \"#8e0152\"], [0.1, \"#c51b7d\"], [0.2, \"#de77ae\"], [0.3, \"#f1b6da\"], [0.4, \"#fde0ef\"], [0.5, \"#f7f7f7\"], [0.6, \"#e6f5d0\"], [0.7, \"#b8e186\"], [0.8, \"#7fbc41\"], [0.9, \"#4d9221\"], [1, \"#276419\"]], \"sequential\": [[0.0, \"#0d0887\"], [0.1111111111111111, \"#46039f\"], [0.2222222222222222, \"#7201a8\"], [0.3333333333333333, \"#9c179e\"], [0.4444444444444444, \"#bd3786\"], [0.5555555555555556, \"#d8576b\"], [0.6666666666666666, \"#ed7953\"], [0.7777777777777778, \"#fb9f3a\"], [0.8888888888888888, \"#fdca26\"], [1.0, \"#f0f921\"]], \"sequentialminus\": [[0.0, \"#0d0887\"], [0.1111111111111111, \"#46039f\"], [0.2222222222222222, \"#7201a8\"], [0.3333333333333333, \"#9c179e\"], [0.4444444444444444, \"#bd3786\"], [0.5555555555555556, \"#d8576b\"], [0.6666666666666666, \"#ed7953\"], [0.7777777777777778, \"#fb9f3a\"], [0.8888888888888888, \"#fdca26\"], [1.0, \"#f0f921\"]]}, \"colorway\": [\"#636efa\", \"#EF553B\", \"#00cc96\", \"#ab63fa\", \"#FFA15A\", \"#19d3f3\", \"#FF6692\", \"#B6E880\", \"#FF97FF\", \"#FECB52\"], \"font\": {\"color\": \"#2a3f5f\"}, \"geo\": {\"bgcolor\": \"white\", \"lakecolor\": \"white\", \"landcolor\": \"#E5ECF6\", \"showlakes\": true, \"showland\": true, \"subunitcolor\": \"white\"}, \"hoverlabel\": {\"align\": \"left\"}, \"hovermode\": \"closest\", \"mapbox\": {\"style\": \"light\"}, \"paper_bgcolor\": \"white\", \"plot_bgcolor\": \"#E5ECF6\", \"polar\": {\"angularaxis\": {\"gridcolor\": \"white\", \"linecolor\": \"white\", \"ticks\": \"\"}, \"bgcolor\": \"#E5ECF6\", \"radialaxis\": {\"gridcolor\": \"white\", \"linecolor\": \"white\", \"ticks\": \"\"}}, \"scene\": {\"xaxis\": {\"backgroundcolor\": \"#E5ECF6\", \"gridcolor\": \"white\", \"gridwidth\": 2, \"linecolor\": \"white\", \"showbackground\": true, \"ticks\": \"\", \"zerolinecolor\": \"white\"}, \"yaxis\": {\"backgroundcolor\": \"#E5ECF6\", \"gridcolor\": \"white\", \"gridwidth\": 2, \"linecolor\": \"white\", \"showbackground\": true, \"ticks\": \"\", \"zerolinecolor\": \"white\"}, \"zaxis\": {\"backgroundcolor\": \"#E5ECF6\", \"gridcolor\": \"white\", \"gridwidth\": 2, \"linecolor\": \"white\", \"showbackground\": true, \"ticks\": \"\", \"zerolinecolor\": \"white\"}}, \"shapedefaults\": {\"line\": {\"color\": \"#2a3f5f\"}}, \"ternary\": {\"aaxis\": {\"gridcolor\": \"white\", \"linecolor\": \"white\", \"ticks\": \"\"}, \"baxis\": {\"gridcolor\": \"white\", \"linecolor\": \"white\", \"ticks\": \"\"}, \"bgcolor\": \"#E5ECF6\", \"caxis\": {\"gridcolor\": \"white\", \"linecolor\": \"white\", \"ticks\": \"\"}}, \"title\": {\"x\": 0.05}, \"xaxis\": {\"automargin\": true, \"gridcolor\": \"white\", \"linecolor\": \"white\", \"ticks\": \"\", \"title\": {\"standoff\": 15}, \"zerolinecolor\": \"white\", \"zerolinewidth\": 2}, \"yaxis\": {\"automargin\": true, \"gridcolor\": \"white\", \"linecolor\": \"white\", \"ticks\": \"\", \"title\": {\"standoff\": 15}, \"zerolinecolor\": \"white\", \"zerolinewidth\": 2}}}, \"xaxis\": {\"anchor\": \"y\", \"domain\": [0.0, 1.0], \"title\": {\"text\": \"state\"}}, \"yaxis\": {\"anchor\": \"x\", \"domain\": [0.0, 1.0], \"title\": {\"text\": \"high\"}}},\n",
              "                        {\"responsive\": true}\n",
              "                    ).then(function(){\n",
              "                            \n",
              "var gd = document.getElementById('336c79db-5aa6-4818-9aaf-f0cc00161ceb');\n",
              "var x = new MutationObserver(function (mutations, observer) {{\n",
              "        var display = window.getComputedStyle(gd).display;\n",
              "        if (!display || display === 'none') {{\n",
              "            console.log([gd, 'removed!']);\n",
              "            Plotly.purge(gd);\n",
              "            observer.disconnect();\n",
              "        }}\n",
              "}});\n",
              "\n",
              "// Listen for the removal of the full notebook cells\n",
              "var notebookContainer = gd.closest('#notebook-container');\n",
              "if (notebookContainer) {{\n",
              "    x.observe(notebookContainer, {childList: true});\n",
              "}}\n",
              "\n",
              "// Listen for the clearing of the current output cell\n",
              "var outputEl = gd.closest('.output');\n",
              "if (outputEl) {{\n",
              "    x.observe(outputEl, {childList: true});\n",
              "}}\n",
              "\n",
              "                        })\n",
              "                };\n",
              "                \n",
              "            </script>\n",
              "        </div>\n",
              "</body>\n",
              "</html>"
            ]
          },
          "metadata": {
            "tags": []
          }
        }
      ]
    },
    {
      "cell_type": "code",
      "metadata": {
        "id": "WAIuAbrXb5vX",
        "colab": {
          "base_uri": "https://localhost:8080/",
          "height": 542
        },
        "outputId": "52a818e7-3d51-441c-ddc5-6e14f7c87afd"
      },
      "source": [
        "import plotly.express as px\n",
        "\n",
        "fig = px.bar(df2, x='state', y = 'low')\n",
        "\n",
        "fig.show()"
      ],
      "execution_count": 35,
      "outputs": [
        {
          "output_type": "display_data",
          "data": {
            "text/html": [
              "<html>\n",
              "<head><meta charset=\"utf-8\" /></head>\n",
              "<body>\n",
              "    <div>\n",
              "            <script src=\"https://cdnjs.cloudflare.com/ajax/libs/mathjax/2.7.5/MathJax.js?config=TeX-AMS-MML_SVG\"></script><script type=\"text/javascript\">if (window.MathJax) {MathJax.Hub.Config({SVG: {font: \"STIX-Web\"}});}</script>\n",
              "                <script type=\"text/javascript\">window.PlotlyConfig = {MathJaxConfig: 'local'};</script>\n",
              "        <script src=\"https://cdn.plot.ly/plotly-latest.min.js\"></script>    \n",
              "            <div id=\"9d0732c9-32b4-4b3b-82ed-1b76402f7f34\" class=\"plotly-graph-div\" style=\"height:525px; width:100%;\"></div>\n",
              "            <script type=\"text/javascript\">\n",
              "                \n",
              "                    window.PLOTLYENV=window.PLOTLYENV || {};\n",
              "                    \n",
              "                if (document.getElementById(\"9d0732c9-32b4-4b3b-82ed-1b76402f7f34\")) {\n",
              "                    Plotly.newPlot(\n",
              "                        '9d0732c9-32b4-4b3b-82ed-1b76402f7f34',\n",
              "                        [{\"alignmentgroup\": \"True\", \"hoverlabel\": {\"namelength\": 0}, \"hovertemplate\": \"state=%{x}<br>low=%{y}\", \"legendgroup\": \"\", \"marker\": {\"color\": \"#636efa\"}, \"name\": \"\", \"offsetgroup\": \"\", \"orientation\": \"v\", \"showlegend\": false, \"textposition\": \"auto\", \"type\": \"bar\", \"x\": [\"CA\", \"VA\", \"MA\", \"NY\", \"MD\", \"IL\", \"DC\", \"TX\", \"WA\", \"OH\"], \"xaxis\": \"x\", \"y\": [92.0, 95.0, 90.5, 93.5, 90.0, 92.0, 100.0, 95.0, 91.5, 79.5], \"yaxis\": \"y\"}],\n",
              "                        {\"barmode\": \"relative\", \"legend\": {\"tracegroupgap\": 0}, \"margin\": {\"t\": 60}, \"template\": {\"data\": {\"bar\": [{\"error_x\": {\"color\": \"#2a3f5f\"}, \"error_y\": {\"color\": \"#2a3f5f\"}, \"marker\": {\"line\": {\"color\": \"#E5ECF6\", \"width\": 0.5}}, \"type\": \"bar\"}], \"barpolar\": [{\"marker\": {\"line\": {\"color\": \"#E5ECF6\", \"width\": 0.5}}, \"type\": \"barpolar\"}], \"carpet\": [{\"aaxis\": {\"endlinecolor\": \"#2a3f5f\", \"gridcolor\": \"white\", \"linecolor\": \"white\", \"minorgridcolor\": \"white\", \"startlinecolor\": \"#2a3f5f\"}, \"baxis\": {\"endlinecolor\": \"#2a3f5f\", \"gridcolor\": \"white\", \"linecolor\": \"white\", \"minorgridcolor\": \"white\", \"startlinecolor\": \"#2a3f5f\"}, \"type\": \"carpet\"}], \"choropleth\": [{\"colorbar\": {\"outlinewidth\": 0, \"ticks\": \"\"}, \"type\": \"choropleth\"}], \"contour\": [{\"colorbar\": {\"outlinewidth\": 0, \"ticks\": \"\"}, \"colorscale\": [[0.0, \"#0d0887\"], [0.1111111111111111, \"#46039f\"], [0.2222222222222222, \"#7201a8\"], [0.3333333333333333, \"#9c179e\"], [0.4444444444444444, \"#bd3786\"], [0.5555555555555556, \"#d8576b\"], [0.6666666666666666, \"#ed7953\"], [0.7777777777777778, \"#fb9f3a\"], [0.8888888888888888, \"#fdca26\"], [1.0, \"#f0f921\"]], \"type\": \"contour\"}], \"contourcarpet\": [{\"colorbar\": {\"outlinewidth\": 0, \"ticks\": \"\"}, \"type\": \"contourcarpet\"}], \"heatmap\": [{\"colorbar\": {\"outlinewidth\": 0, \"ticks\": \"\"}, \"colorscale\": [[0.0, \"#0d0887\"], [0.1111111111111111, \"#46039f\"], [0.2222222222222222, \"#7201a8\"], [0.3333333333333333, \"#9c179e\"], [0.4444444444444444, \"#bd3786\"], [0.5555555555555556, \"#d8576b\"], [0.6666666666666666, \"#ed7953\"], [0.7777777777777778, \"#fb9f3a\"], [0.8888888888888888, \"#fdca26\"], [1.0, \"#f0f921\"]], \"type\": \"heatmap\"}], \"heatmapgl\": [{\"colorbar\": {\"outlinewidth\": 0, \"ticks\": \"\"}, \"colorscale\": [[0.0, \"#0d0887\"], [0.1111111111111111, \"#46039f\"], [0.2222222222222222, \"#7201a8\"], [0.3333333333333333, \"#9c179e\"], [0.4444444444444444, \"#bd3786\"], [0.5555555555555556, \"#d8576b\"], [0.6666666666666666, \"#ed7953\"], [0.7777777777777778, \"#fb9f3a\"], [0.8888888888888888, \"#fdca26\"], [1.0, \"#f0f921\"]], \"type\": \"heatmapgl\"}], \"histogram\": [{\"marker\": {\"colorbar\": {\"outlinewidth\": 0, \"ticks\": \"\"}}, \"type\": \"histogram\"}], \"histogram2d\": [{\"colorbar\": {\"outlinewidth\": 0, \"ticks\": \"\"}, \"colorscale\": [[0.0, \"#0d0887\"], [0.1111111111111111, \"#46039f\"], [0.2222222222222222, \"#7201a8\"], [0.3333333333333333, \"#9c179e\"], [0.4444444444444444, \"#bd3786\"], [0.5555555555555556, \"#d8576b\"], [0.6666666666666666, \"#ed7953\"], [0.7777777777777778, \"#fb9f3a\"], [0.8888888888888888, \"#fdca26\"], [1.0, \"#f0f921\"]], \"type\": \"histogram2d\"}], \"histogram2dcontour\": [{\"colorbar\": {\"outlinewidth\": 0, \"ticks\": \"\"}, \"colorscale\": [[0.0, \"#0d0887\"], [0.1111111111111111, \"#46039f\"], [0.2222222222222222, \"#7201a8\"], [0.3333333333333333, \"#9c179e\"], [0.4444444444444444, \"#bd3786\"], [0.5555555555555556, \"#d8576b\"], [0.6666666666666666, \"#ed7953\"], [0.7777777777777778, \"#fb9f3a\"], [0.8888888888888888, \"#fdca26\"], [1.0, \"#f0f921\"]], \"type\": \"histogram2dcontour\"}], \"mesh3d\": [{\"colorbar\": {\"outlinewidth\": 0, \"ticks\": \"\"}, \"type\": \"mesh3d\"}], \"parcoords\": [{\"line\": {\"colorbar\": {\"outlinewidth\": 0, \"ticks\": \"\"}}, \"type\": \"parcoords\"}], \"pie\": [{\"automargin\": true, \"type\": \"pie\"}], \"scatter\": [{\"marker\": {\"colorbar\": {\"outlinewidth\": 0, \"ticks\": \"\"}}, \"type\": \"scatter\"}], \"scatter3d\": [{\"line\": {\"colorbar\": {\"outlinewidth\": 0, \"ticks\": \"\"}}, \"marker\": {\"colorbar\": {\"outlinewidth\": 0, \"ticks\": \"\"}}, \"type\": \"scatter3d\"}], \"scattercarpet\": [{\"marker\": {\"colorbar\": {\"outlinewidth\": 0, \"ticks\": \"\"}}, \"type\": \"scattercarpet\"}], \"scattergeo\": [{\"marker\": {\"colorbar\": {\"outlinewidth\": 0, \"ticks\": \"\"}}, \"type\": \"scattergeo\"}], \"scattergl\": [{\"marker\": {\"colorbar\": {\"outlinewidth\": 0, \"ticks\": \"\"}}, \"type\": \"scattergl\"}], \"scattermapbox\": [{\"marker\": {\"colorbar\": {\"outlinewidth\": 0, \"ticks\": \"\"}}, \"type\": \"scattermapbox\"}], \"scatterpolar\": [{\"marker\": {\"colorbar\": {\"outlinewidth\": 0, \"ticks\": \"\"}}, \"type\": \"scatterpolar\"}], \"scatterpolargl\": [{\"marker\": {\"colorbar\": {\"outlinewidth\": 0, \"ticks\": \"\"}}, \"type\": \"scatterpolargl\"}], \"scatterternary\": [{\"marker\": {\"colorbar\": {\"outlinewidth\": 0, \"ticks\": \"\"}}, \"type\": \"scatterternary\"}], \"surface\": [{\"colorbar\": {\"outlinewidth\": 0, \"ticks\": \"\"}, \"colorscale\": [[0.0, \"#0d0887\"], [0.1111111111111111, \"#46039f\"], [0.2222222222222222, \"#7201a8\"], [0.3333333333333333, \"#9c179e\"], [0.4444444444444444, \"#bd3786\"], [0.5555555555555556, \"#d8576b\"], [0.6666666666666666, \"#ed7953\"], [0.7777777777777778, \"#fb9f3a\"], [0.8888888888888888, \"#fdca26\"], [1.0, \"#f0f921\"]], \"type\": \"surface\"}], \"table\": [{\"cells\": {\"fill\": {\"color\": \"#EBF0F8\"}, \"line\": {\"color\": \"white\"}}, \"header\": {\"fill\": {\"color\": \"#C8D4E3\"}, \"line\": {\"color\": \"white\"}}, \"type\": \"table\"}]}, \"layout\": {\"annotationdefaults\": {\"arrowcolor\": \"#2a3f5f\", \"arrowhead\": 0, \"arrowwidth\": 1}, \"coloraxis\": {\"colorbar\": {\"outlinewidth\": 0, \"ticks\": \"\"}}, \"colorscale\": {\"diverging\": [[0, \"#8e0152\"], [0.1, \"#c51b7d\"], [0.2, \"#de77ae\"], [0.3, \"#f1b6da\"], [0.4, \"#fde0ef\"], [0.5, \"#f7f7f7\"], [0.6, \"#e6f5d0\"], [0.7, \"#b8e186\"], [0.8, \"#7fbc41\"], [0.9, \"#4d9221\"], [1, \"#276419\"]], \"sequential\": [[0.0, \"#0d0887\"], [0.1111111111111111, \"#46039f\"], [0.2222222222222222, \"#7201a8\"], [0.3333333333333333, \"#9c179e\"], [0.4444444444444444, \"#bd3786\"], [0.5555555555555556, \"#d8576b\"], [0.6666666666666666, \"#ed7953\"], [0.7777777777777778, \"#fb9f3a\"], [0.8888888888888888, \"#fdca26\"], [1.0, \"#f0f921\"]], \"sequentialminus\": [[0.0, \"#0d0887\"], [0.1111111111111111, \"#46039f\"], [0.2222222222222222, \"#7201a8\"], [0.3333333333333333, \"#9c179e\"], [0.4444444444444444, \"#bd3786\"], [0.5555555555555556, \"#d8576b\"], [0.6666666666666666, \"#ed7953\"], [0.7777777777777778, \"#fb9f3a\"], [0.8888888888888888, \"#fdca26\"], [1.0, \"#f0f921\"]]}, \"colorway\": [\"#636efa\", \"#EF553B\", \"#00cc96\", \"#ab63fa\", \"#FFA15A\", \"#19d3f3\", \"#FF6692\", \"#B6E880\", \"#FF97FF\", \"#FECB52\"], \"font\": {\"color\": \"#2a3f5f\"}, \"geo\": {\"bgcolor\": \"white\", \"lakecolor\": \"white\", \"landcolor\": \"#E5ECF6\", \"showlakes\": true, \"showland\": true, \"subunitcolor\": \"white\"}, \"hoverlabel\": {\"align\": \"left\"}, \"hovermode\": \"closest\", \"mapbox\": {\"style\": \"light\"}, \"paper_bgcolor\": \"white\", \"plot_bgcolor\": \"#E5ECF6\", \"polar\": {\"angularaxis\": {\"gridcolor\": \"white\", \"linecolor\": \"white\", \"ticks\": \"\"}, \"bgcolor\": \"#E5ECF6\", \"radialaxis\": {\"gridcolor\": \"white\", \"linecolor\": \"white\", \"ticks\": \"\"}}, \"scene\": {\"xaxis\": {\"backgroundcolor\": \"#E5ECF6\", \"gridcolor\": \"white\", \"gridwidth\": 2, \"linecolor\": \"white\", \"showbackground\": true, \"ticks\": \"\", \"zerolinecolor\": \"white\"}, \"yaxis\": {\"backgroundcolor\": \"#E5ECF6\", \"gridcolor\": \"white\", \"gridwidth\": 2, \"linecolor\": \"white\", \"showbackground\": true, \"ticks\": \"\", \"zerolinecolor\": \"white\"}, \"zaxis\": {\"backgroundcolor\": \"#E5ECF6\", \"gridcolor\": \"white\", \"gridwidth\": 2, \"linecolor\": \"white\", \"showbackground\": true, \"ticks\": \"\", \"zerolinecolor\": \"white\"}}, \"shapedefaults\": {\"line\": {\"color\": \"#2a3f5f\"}}, \"ternary\": {\"aaxis\": {\"gridcolor\": \"white\", \"linecolor\": \"white\", \"ticks\": \"\"}, \"baxis\": {\"gridcolor\": \"white\", \"linecolor\": \"white\", \"ticks\": \"\"}, \"bgcolor\": \"#E5ECF6\", \"caxis\": {\"gridcolor\": \"white\", \"linecolor\": \"white\", \"ticks\": \"\"}}, \"title\": {\"x\": 0.05}, \"xaxis\": {\"automargin\": true, \"gridcolor\": \"white\", \"linecolor\": \"white\", \"ticks\": \"\", \"title\": {\"standoff\": 15}, \"zerolinecolor\": \"white\", \"zerolinewidth\": 2}, \"yaxis\": {\"automargin\": true, \"gridcolor\": \"white\", \"linecolor\": \"white\", \"ticks\": \"\", \"title\": {\"standoff\": 15}, \"zerolinecolor\": \"white\", \"zerolinewidth\": 2}}}, \"xaxis\": {\"anchor\": \"y\", \"domain\": [0.0, 1.0], \"title\": {\"text\": \"state\"}}, \"yaxis\": {\"anchor\": \"x\", \"domain\": [0.0, 1.0], \"title\": {\"text\": \"low\"}}},\n",
              "                        {\"responsive\": true}\n",
              "                    ).then(function(){\n",
              "                            \n",
              "var gd = document.getElementById('9d0732c9-32b4-4b3b-82ed-1b76402f7f34');\n",
              "var x = new MutationObserver(function (mutations, observer) {{\n",
              "        var display = window.getComputedStyle(gd).display;\n",
              "        if (!display || display === 'none') {{\n",
              "            console.log([gd, 'removed!']);\n",
              "            Plotly.purge(gd);\n",
              "            observer.disconnect();\n",
              "        }}\n",
              "}});\n",
              "\n",
              "// Listen for the removal of the full notebook cells\n",
              "var notebookContainer = gd.closest('#notebook-container');\n",
              "if (notebookContainer) {{\n",
              "    x.observe(notebookContainer, {childList: true});\n",
              "}}\n",
              "\n",
              "// Listen for the clearing of the current output cell\n",
              "var outputEl = gd.closest('.output');\n",
              "if (outputEl) {{\n",
              "    x.observe(outputEl, {childList: true});\n",
              "}}\n",
              "\n",
              "                        })\n",
              "                };\n",
              "                \n",
              "            </script>\n",
              "        </div>\n",
              "</body>\n",
              "</html>"
            ]
          },
          "metadata": {
            "tags": []
          }
        }
      ]
    },
    {
      "cell_type": "markdown",
      "metadata": {
        "id": "RILv2Mw1d_5i"
      },
      "source": [
        "## Salary Information\n",
        "Glassdoor provides estimated salary information by the range <Min, Max>. \n",
        "\n",
        "For estimating the salary, estimated min value and max value are used."
      ]
    },
    {
      "cell_type": "markdown",
      "metadata": {
        "id": "waeapIuzewjs"
      },
      "source": [
        "## Salary Information - State"
      ]
    },
    {
      "cell_type": "code",
      "metadata": {
        "id": "DPZENJofRFAh",
        "colab": {
          "base_uri": "https://localhost:8080/",
          "height": 542
        },
        "outputId": "ff9f0164-d579-4abf-b02e-371871e7499d"
      },
      "source": [
        "import plotly.graph_objects as go\n",
        "\n",
        "fig = go.Figure()\n",
        "fig.add_trace(go.Box(y=df['low_salary'], name = 'low range'))\n",
        "fig.add_trace(go.Box(y=df['high_salary'], name = 'high range'))\n",
        "fig.update_traces(boxpoints='all', jitter=0)\n",
        "fig.show()"
      ],
      "execution_count": 36,
      "outputs": [
        {
          "output_type": "display_data",
          "data": {
            "text/html": [
              "<html>\n",
              "<head><meta charset=\"utf-8\" /></head>\n",
              "<body>\n",
              "    <div>\n",
              "            <script src=\"https://cdnjs.cloudflare.com/ajax/libs/mathjax/2.7.5/MathJax.js?config=TeX-AMS-MML_SVG\"></script><script type=\"text/javascript\">if (window.MathJax) {MathJax.Hub.Config({SVG: {font: \"STIX-Web\"}});}</script>\n",
              "                <script type=\"text/javascript\">window.PlotlyConfig = {MathJaxConfig: 'local'};</script>\n",
              "        <script src=\"https://cdn.plot.ly/plotly-latest.min.js\"></script>    \n",
              "            <div id=\"6b3d70c0-b8d3-4427-9a87-b22017def597\" class=\"plotly-graph-div\" style=\"height:525px; width:100%;\"></div>\n",
              "            <script type=\"text/javascript\">\n",
              "                \n",
              "                    window.PLOTLYENV=window.PLOTLYENV || {};\n",
              "                    \n",
              "                if (document.getElementById(\"6b3d70c0-b8d3-4427-9a87-b22017def597\")) {\n",
              "                    Plotly.newPlot(\n",
              "                        '6b3d70c0-b8d3-4427-9a87-b22017def597',\n",
              "                        [{\"boxpoints\": \"all\", \"jitter\": 0, \"name\": \"low range\", \"type\": \"box\", \"y\": [\"137\", \"137\", \"137\", \"137\", \"137\", \"137\", \"137\", \"137\", \"137\", \"137\", \"137\", \"137\", \"137\", \"137\", \"137\", \"137\", \"137\", \"137\", \"137\", \"137\", \"137\", \"137\", \"137\", \"137\", \"137\", \"137\", \"137\", \"137\", \"137\", \"137\", \"75\", \"75\", \"75\", \"75\", \"75\", \"75\", \"75\", \"75\", \"75\", \"75\", \"75\", \"75\", \"75\", \"75\", \"75\", \"75\", \"75\", \"75\", \"75\", \"75\", \"75\", \"75\", \"75\", \"75\", \"75\", \"75\", \"75\", \"75\", \"75\", \"75\", \"75\", \"75\", \"79\", \"79\", \"79\", \"79\", \"79\", \"79\", \"79\", \"79\", \"79\", \"79\", \"79\", \"79\", \"79\", \"79\", \"79\", \"79\", \"79\", \"79\", \"79\", \"79\", \"79\", \"79\", \"79\", \"79\", \"79\", \"79\", \"79\", \"79\", \"79\", \"79\", \"79\", \"79\", \"99\", \"99\", \"99\", \"99\", \"99\", \"99\", \"99\", \"99\", \"99\", \"99\", \"99\", \"99\", \"99\", \"99\", \"99\", \"99\", \"99\", \"99\", \"99\", \"99\", \"99\", \"99\", \"99\", \"99\", \"99\", \"99\", \"99\", \"99\", \"99\", \"99\", \"99\", \"99\", \"90\", \"90\", \"90\", \"90\", \"90\", \"90\", \"90\", \"90\", \"90\", \"90\", \"90\", \"90\", \"90\", \"90\", \"90\", \"90\", \"90\", \"90\", \"90\", \"90\", \"90\", \"90\", \"90\", \"90\", \"90\", \"90\", \"90\", \"90\", \"90\", \"90\", \"101\", \"101\", \"101\", \"101\", \"101\", \"101\", \"101\", \"101\", \"101\", \"101\", \"101\", \"101\", \"101\", \"101\", \"101\", \"101\", \"101\", \"101\", \"101\", \"101\", \"101\", \"56\", \"56\", \"56\", \"56\", \"56\", \"56\", \"56\", \"56\", \"56\", \"56\", \"56\", \"56\", \"56\", \"56\", \"56\", \"56\", \"56\", \"56\", \"56\", \"56\", \"56\", \"56\", \"79\", \"79\", \"79\", \"79\", \"79\", \"79\", \"79\", \"79\", \"79\", \"79\", \"79\", \"79\", \"79\", \"79\", \"79\", \"79\", \"79\", \"79\", \"79\", \"79\", \"79\", \"79\", \"71\", \"71\", \"71\", \"71\", \"71\", \"71\", \"71\", \"71\", \"71\", \"71\", \"71\", \"71\", \"71\", \"71\", \"71\", \"71\", \"71\", \"71\", \"71\", \"90\", \"90\", \"90\", \"90\", \"90\", \"90\", \"90\", \"90\", \"90\", \"90\", \"90\", \"90\", \"90\", \"90\", \"90\", \"90\", \"90\", \"90\", \"90\", \"90\", \"90\", \"90\", \"91\", \"91\", \"91\", \"91\", \"91\", \"91\", \"91\", \"91\", \"91\", \"91\", \"91\", \"91\", \"91\", \"91\", \"91\", \"91\", \"91\", \"91\", \"91\", \"91\", \"91\", \"141\", \"141\", \"141\", \"141\", \"141\", \"141\", \"141\", \"141\", \"141\", \"141\", \"141\", \"141\", \"141\", \"141\", \"141\", \"141\", \"141\", \"141\", \"141\", \"141\", \"145\", \"145\", \"145\", \"145\", \"145\", \"145\", \"145\", \"145\", \"145\", \"145\", \"145\", \"145\", \"145\", \"145\", \"145\", \"145\", \"145\", \"145\", \"145\", \"145\", \"79\", \"79\", \"79\", \"79\", \"79\", \"79\", \"79\", \"79\", \"79\", \"79\", \"79\", \"79\", \"79\", \"79\", \"79\", \"79\", \"79\", \"79\", \"79\", \"79\", \"122\", \"122\", \"122\", \"122\", \"122\", \"122\", \"122\", \"122\", \"122\", \"122\", \"122\", \"122\", \"122\", \"122\", \"122\", \"122\", \"122\", \"122\", \"122\", \"122\", \"122\", \"112\", \"112\", \"112\", \"112\", \"112\", \"112\", \"112\", \"112\", \"112\", \"112\", \"112\", \"112\", \"112\", \"112\", \"112\", \"112\", \"112\", \"112\", \"112\", \"112\", \"112\", \"110\", \"110\", \"110\", \"110\", \"110\", \"110\", \"110\", \"110\", \"110\", \"110\", \"110\", \"110\", \"110\", \"110\", \"110\", \"110\", \"110\", \"110\", \"110\", \"110\", \"110\", \"124\", \"124\", \"124\", \"124\", \"124\", \"124\", \"124\", \"124\", \"124\", \"124\", \"124\", \"124\", \"124\", \"124\", \"124\", \"124\", \"124\", \"124\", \"124\", \"124\", \"124\", \"79\", \"79\", \"79\", \"79\", \"79\", \"79\", \"79\", \"79\", \"79\", \"79\", \"79\", \"79\", \"79\", \"79\", \"79\", \"79\", \"79\", \"79\", \"79\", \"69\", \"69\", \"69\", \"69\", \"69\", \"69\", \"69\", \"69\", \"69\", \"69\", \"69\", \"69\", \"69\", \"69\", \"69\", \"69\", \"69\", \"69\", \"69\", \"69\", \"69\", \"31\", \"31\", \"31\", \"31\", \"31\", \"31\", \"31\", \"31\", \"31\", \"31\", \"31\", \"31\", \"31\", \"31\", \"31\", \"31\", \"31\", \"31\", \"31\", \"31\", \"95\", \"95\", \"95\", \"95\", \"95\", \"95\", \"95\", \"95\", \"95\", \"95\", \"95\", \"95\", \"95\", \"95\", \"95\", \"95\", \"95\", \"95\", \"95\", \"95\", \"95\", \"212\", \"212\", \"212\", \"212\", \"212\", \"212\", \"212\", \"212\", \"212\", \"212\", \"212\", \"212\", \"212\", \"212\", \"212\", \"212\", \"212\", \"212\", \"212\", \"212\", \"212\", \"66\", \"66\", \"66\", \"66\", \"66\", \"66\", \"66\", \"66\", \"66\", \"66\", \"66\", \"66\", \"66\", \"66\", \"66\", \"66\", \"66\", \"66\", \"66\", \"66\", \"128\", \"128\", \"128\", \"128\", \"128\", \"128\", \"128\", \"128\", \"128\", \"128\", \"128\", \"128\", \"128\", \"128\", \"128\", \"128\", \"128\", \"128\", \"128\", \"128\", \"128\", \"138\", \"138\", \"138\", \"138\", \"138\", \"138\", \"138\", \"138\", \"138\", \"138\", \"138\", \"138\", \"138\", \"138\", \"138\", \"138\", \"138\", \"138\", \"138\", \"138\", \"138\", \"80\", \"80\", \"80\", \"80\", \"80\", \"80\", \"80\", \"80\", \"80\", \"80\", \"80\", \"80\", \"80\", \"80\", \"80\", \"80\", \"80\", \"80\", \"80\", \"80\", \"87\", \"87\", \"87\", \"87\", \"87\", \"87\", \"87\", \"87\", \"87\", \"87\", \"87\", \"87\", \"87\", \"87\", \"87\", \"87\", \"87\", \"87\", \"87\", \"87\", \"92\", \"92\", \"92\", \"92\", \"92\", \"92\", \"92\", \"92\", \"92\", \"92\", \"92\", \"92\", \"92\", \"92\", \"92\", \"92\", \"92\", \"92\", \"92\", \"92\", \"92\", \"105\", \"105\", \"105\", \"105\", \"105\", \"105\", \"105\", \"105\", \"105\", \"105\", \"105\", \"105\", \"105\", \"105\", \"105\", \"105\", \"105\", \"105\", \"105\", \"105\"]}, {\"boxpoints\": \"all\", \"jitter\": 0, \"name\": \"high range\", \"type\": \"box\", \"y\": [\"171\", \"171\", \"171\", \"171\", \"171\", \"171\", \"171\", \"171\", \"171\", \"171\", \"171\", \"171\", \"171\", \"171\", \"171\", \"171\", \"171\", \"171\", \"171\", \"171\", \"171\", \"171\", \"171\", \"171\", \"171\", \"171\", \"171\", \"171\", \"171\", \"171\", \"131\", \"131\", \"131\", \"131\", \"131\", \"131\", \"131\", \"131\", \"131\", \"131\", \"131\", \"131\", \"131\", \"131\", \"131\", \"131\", \"131\", \"131\", \"131\", \"131\", \"131\", \"131\", \"131\", \"131\", \"131\", \"131\", \"131\", \"131\", \"131\", \"131\", \"131\", \"131\", \"131\", \"131\", \"131\", \"131\", \"131\", \"131\", \"131\", \"131\", \"131\", \"131\", \"131\", \"131\", \"131\", \"131\", \"131\", \"131\", \"131\", \"131\", \"131\", \"131\", \"131\", \"131\", \"131\", \"131\", \"131\", \"131\", \"131\", \"131\", \"131\", \"131\", \"131\", \"131\", \"132\", \"132\", \"132\", \"132\", \"132\", \"132\", \"132\", \"132\", \"132\", \"132\", \"132\", \"132\", \"132\", \"132\", \"132\", \"132\", \"132\", \"132\", \"132\", \"132\", \"132\", \"132\", \"132\", \"132\", \"132\", \"132\", \"132\", \"132\", \"132\", \"132\", \"132\", \"132\", \"109\", \"109\", \"109\", \"109\", \"109\", \"109\", \"109\", \"109\", \"109\", \"109\", \"109\", \"109\", \"109\", \"109\", \"109\", \"109\", \"109\", \"109\", \"109\", \"109\", \"109\", \"109\", \"109\", \"109\", \"109\", \"109\", \"109\", \"109\", \"109\", \"109\", \"165\", \"165\", \"165\", \"165\", \"165\", \"165\", \"165\", \"165\", \"165\", \"165\", \"165\", \"165\", \"165\", \"165\", \"165\", \"165\", \"165\", \"165\", \"165\", \"165\", \"165\", \"97\", \"97\", \"97\", \"97\", \"97\", \"97\", \"97\", \"97\", \"97\", \"97\", \"97\", \"97\", \"97\", \"97\", \"97\", \"97\", \"97\", \"97\", \"97\", \"97\", \"97\", \"97\", \"106\", \"106\", \"106\", \"106\", \"106\", \"106\", \"106\", \"106\", \"106\", \"106\", \"106\", \"106\", \"106\", \"106\", \"106\", \"106\", \"106\", \"106\", \"106\", \"106\", \"106\", \"106\", \"123\", \"123\", \"123\", \"123\", \"123\", \"123\", \"123\", \"123\", \"123\", \"123\", \"123\", \"123\", \"123\", \"123\", \"123\", \"123\", \"123\", \"123\", \"123\", \"124\", \"124\", \"124\", \"124\", \"124\", \"124\", \"124\", \"124\", \"124\", \"124\", \"124\", \"124\", \"124\", \"124\", \"124\", \"124\", \"124\", \"124\", \"124\", \"124\", \"124\", \"124\", \"150\", \"150\", \"150\", \"150\", \"150\", \"150\", \"150\", \"150\", \"150\", \"150\", \"150\", \"150\", \"150\", \"150\", \"150\", \"150\", \"150\", \"150\", \"150\", \"150\", \"150\", \"225\", \"225\", \"225\", \"225\", \"225\", \"225\", \"225\", \"225\", \"225\", \"225\", \"225\", \"225\", \"225\", \"225\", \"225\", \"225\", \"225\", \"225\", \"225\", \"225\", \"225\", \"225\", \"225\", \"225\", \"225\", \"225\", \"225\", \"225\", \"225\", \"225\", \"225\", \"225\", \"225\", \"225\", \"225\", \"225\", \"225\", \"225\", \"225\", \"225\", \"147\", \"147\", \"147\", \"147\", \"147\", \"147\", \"147\", \"147\", \"147\", \"147\", \"147\", \"147\", \"147\", \"147\", \"147\", \"147\", \"147\", \"147\", \"147\", \"147\", \"146\", \"146\", \"146\", \"146\", \"146\", \"146\", \"146\", \"146\", \"146\", \"146\", \"146\", \"146\", \"146\", \"146\", \"146\", \"146\", \"146\", \"146\", \"146\", \"146\", \"146\", \"116\", \"116\", \"116\", \"116\", \"116\", \"116\", \"116\", \"116\", \"116\", \"116\", \"116\", \"116\", \"116\", \"116\", \"116\", \"116\", \"116\", \"116\", \"116\", \"116\", \"116\", \"163\", \"163\", \"163\", \"163\", \"163\", \"163\", \"163\", \"163\", \"163\", \"163\", \"163\", \"163\", \"163\", \"163\", \"163\", \"163\", \"163\", \"163\", \"163\", \"163\", \"163\", \"198\", \"198\", \"198\", \"198\", \"198\", \"198\", \"198\", \"198\", \"198\", \"198\", \"198\", \"198\", \"198\", \"198\", \"198\", \"198\", \"198\", \"198\", \"198\", \"198\", \"198\", \"133\", \"133\", \"133\", \"133\", \"133\", \"133\", \"133\", \"133\", \"133\", \"133\", \"133\", \"133\", \"133\", \"133\", \"133\", \"133\", \"133\", \"133\", \"133\", \"116\", \"116\", \"116\", \"116\", \"116\", \"116\", \"116\", \"116\", \"116\", \"116\", \"116\", \"116\", \"116\", \"116\", \"116\", \"116\", \"116\", \"116\", \"116\", \"116\", \"116\", \"56\", \"56\", \"56\", \"56\", \"56\", \"56\", \"56\", \"56\", \"56\", \"56\", \"56\", \"56\", \"56\", \"56\", \"56\", \"56\", \"56\", \"56\", \"56\", \"56\", \"119\", \"119\", \"119\", \"119\", \"119\", \"119\", \"119\", \"119\", \"119\", \"119\", \"119\", \"119\", \"119\", \"119\", \"119\", \"119\", \"119\", \"119\", \"119\", \"119\", \"119\", \"331\", \"331\", \"331\", \"331\", \"331\", \"331\", \"331\", \"331\", \"331\", \"331\", \"331\", \"331\", \"331\", \"331\", \"331\", \"331\", \"331\", \"331\", \"331\", \"331\", \"331\", \"112\", \"112\", \"112\", \"112\", \"112\", \"112\", \"112\", \"112\", \"112\", \"112\", \"112\", \"112\", \"112\", \"112\", \"112\", \"112\", \"112\", \"112\", \"112\", \"112\", \"201\", \"201\", \"201\", \"201\", \"201\", \"201\", \"201\", \"201\", \"201\", \"201\", \"201\", \"201\", \"201\", \"201\", \"201\", \"201\", \"201\", \"201\", \"201\", \"201\", \"201\", \"158\", \"158\", \"158\", \"158\", \"158\", \"158\", \"158\", \"158\", \"158\", \"158\", \"158\", \"158\", \"158\", \"158\", \"158\", \"158\", \"158\", \"158\", \"158\", \"158\", \"158\", \"132\", \"132\", \"132\", \"132\", \"132\", \"132\", \"132\", \"132\", \"132\", \"132\", \"132\", \"132\", \"132\", \"132\", \"132\", \"132\", \"132\", \"132\", \"132\", \"132\", \"141\", \"141\", \"141\", \"141\", \"141\", \"141\", \"141\", \"141\", \"141\", \"141\", \"141\", \"141\", \"141\", \"141\", \"141\", \"141\", \"141\", \"141\", \"141\", \"141\", \"155\", \"155\", \"155\", \"155\", \"155\", \"155\", \"155\", \"155\", \"155\", \"155\", \"155\", \"155\", \"155\", \"155\", \"155\", \"155\", \"155\", \"155\", \"155\", \"155\", \"155\", \"167\", \"167\", \"167\", \"167\", \"167\", \"167\", \"167\", \"167\", \"167\", \"167\", \"167\", \"167\", \"167\", \"167\", \"167\", \"167\", \"167\", \"167\", \"167\", \"167\"]}],\n",
              "                        {\"template\": {\"data\": {\"bar\": [{\"error_x\": {\"color\": \"#2a3f5f\"}, \"error_y\": {\"color\": \"#2a3f5f\"}, \"marker\": {\"line\": {\"color\": \"#E5ECF6\", \"width\": 0.5}}, \"type\": \"bar\"}], \"barpolar\": [{\"marker\": {\"line\": {\"color\": \"#E5ECF6\", \"width\": 0.5}}, \"type\": \"barpolar\"}], \"carpet\": [{\"aaxis\": {\"endlinecolor\": \"#2a3f5f\", \"gridcolor\": \"white\", \"linecolor\": \"white\", \"minorgridcolor\": \"white\", \"startlinecolor\": \"#2a3f5f\"}, \"baxis\": {\"endlinecolor\": \"#2a3f5f\", \"gridcolor\": \"white\", \"linecolor\": \"white\", \"minorgridcolor\": \"white\", \"startlinecolor\": \"#2a3f5f\"}, \"type\": \"carpet\"}], \"choropleth\": [{\"colorbar\": {\"outlinewidth\": 0, \"ticks\": \"\"}, \"type\": \"choropleth\"}], \"contour\": [{\"colorbar\": {\"outlinewidth\": 0, \"ticks\": \"\"}, \"colorscale\": [[0.0, \"#0d0887\"], [0.1111111111111111, \"#46039f\"], [0.2222222222222222, \"#7201a8\"], [0.3333333333333333, \"#9c179e\"], [0.4444444444444444, \"#bd3786\"], [0.5555555555555556, \"#d8576b\"], [0.6666666666666666, \"#ed7953\"], [0.7777777777777778, \"#fb9f3a\"], [0.8888888888888888, \"#fdca26\"], [1.0, \"#f0f921\"]], \"type\": \"contour\"}], \"contourcarpet\": [{\"colorbar\": {\"outlinewidth\": 0, \"ticks\": \"\"}, \"type\": \"contourcarpet\"}], \"heatmap\": [{\"colorbar\": {\"outlinewidth\": 0, \"ticks\": \"\"}, \"colorscale\": [[0.0, \"#0d0887\"], [0.1111111111111111, \"#46039f\"], [0.2222222222222222, \"#7201a8\"], [0.3333333333333333, \"#9c179e\"], [0.4444444444444444, \"#bd3786\"], [0.5555555555555556, \"#d8576b\"], [0.6666666666666666, \"#ed7953\"], [0.7777777777777778, \"#fb9f3a\"], [0.8888888888888888, \"#fdca26\"], [1.0, \"#f0f921\"]], \"type\": \"heatmap\"}], \"heatmapgl\": [{\"colorbar\": {\"outlinewidth\": 0, \"ticks\": \"\"}, \"colorscale\": [[0.0, \"#0d0887\"], [0.1111111111111111, \"#46039f\"], [0.2222222222222222, \"#7201a8\"], [0.3333333333333333, \"#9c179e\"], [0.4444444444444444, \"#bd3786\"], [0.5555555555555556, \"#d8576b\"], [0.6666666666666666, \"#ed7953\"], [0.7777777777777778, \"#fb9f3a\"], [0.8888888888888888, \"#fdca26\"], [1.0, \"#f0f921\"]], \"type\": \"heatmapgl\"}], \"histogram\": [{\"marker\": {\"colorbar\": {\"outlinewidth\": 0, \"ticks\": \"\"}}, \"type\": \"histogram\"}], \"histogram2d\": [{\"colorbar\": {\"outlinewidth\": 0, \"ticks\": \"\"}, \"colorscale\": [[0.0, \"#0d0887\"], [0.1111111111111111, \"#46039f\"], [0.2222222222222222, \"#7201a8\"], [0.3333333333333333, \"#9c179e\"], [0.4444444444444444, \"#bd3786\"], [0.5555555555555556, \"#d8576b\"], [0.6666666666666666, \"#ed7953\"], [0.7777777777777778, \"#fb9f3a\"], [0.8888888888888888, \"#fdca26\"], [1.0, \"#f0f921\"]], \"type\": \"histogram2d\"}], \"histogram2dcontour\": [{\"colorbar\": {\"outlinewidth\": 0, \"ticks\": \"\"}, \"colorscale\": [[0.0, \"#0d0887\"], [0.1111111111111111, \"#46039f\"], [0.2222222222222222, \"#7201a8\"], [0.3333333333333333, \"#9c179e\"], [0.4444444444444444, \"#bd3786\"], [0.5555555555555556, \"#d8576b\"], [0.6666666666666666, \"#ed7953\"], [0.7777777777777778, \"#fb9f3a\"], [0.8888888888888888, \"#fdca26\"], [1.0, \"#f0f921\"]], \"type\": \"histogram2dcontour\"}], \"mesh3d\": [{\"colorbar\": {\"outlinewidth\": 0, \"ticks\": \"\"}, \"type\": \"mesh3d\"}], \"parcoords\": [{\"line\": {\"colorbar\": {\"outlinewidth\": 0, \"ticks\": \"\"}}, \"type\": \"parcoords\"}], \"pie\": [{\"automargin\": true, \"type\": \"pie\"}], \"scatter\": [{\"marker\": {\"colorbar\": {\"outlinewidth\": 0, \"ticks\": \"\"}}, \"type\": \"scatter\"}], \"scatter3d\": [{\"line\": {\"colorbar\": {\"outlinewidth\": 0, \"ticks\": \"\"}}, \"marker\": {\"colorbar\": {\"outlinewidth\": 0, \"ticks\": \"\"}}, \"type\": \"scatter3d\"}], \"scattercarpet\": [{\"marker\": {\"colorbar\": {\"outlinewidth\": 0, \"ticks\": \"\"}}, \"type\": \"scattercarpet\"}], \"scattergeo\": [{\"marker\": {\"colorbar\": {\"outlinewidth\": 0, \"ticks\": \"\"}}, \"type\": \"scattergeo\"}], \"scattergl\": [{\"marker\": {\"colorbar\": {\"outlinewidth\": 0, \"ticks\": \"\"}}, \"type\": \"scattergl\"}], \"scattermapbox\": [{\"marker\": {\"colorbar\": {\"outlinewidth\": 0, \"ticks\": \"\"}}, \"type\": \"scattermapbox\"}], \"scatterpolar\": [{\"marker\": {\"colorbar\": {\"outlinewidth\": 0, \"ticks\": \"\"}}, \"type\": \"scatterpolar\"}], \"scatterpolargl\": [{\"marker\": {\"colorbar\": {\"outlinewidth\": 0, \"ticks\": \"\"}}, \"type\": \"scatterpolargl\"}], \"scatterternary\": [{\"marker\": {\"colorbar\": {\"outlinewidth\": 0, \"ticks\": \"\"}}, \"type\": \"scatterternary\"}], \"surface\": [{\"colorbar\": {\"outlinewidth\": 0, \"ticks\": \"\"}, \"colorscale\": [[0.0, \"#0d0887\"], [0.1111111111111111, \"#46039f\"], [0.2222222222222222, \"#7201a8\"], [0.3333333333333333, \"#9c179e\"], [0.4444444444444444, \"#bd3786\"], [0.5555555555555556, \"#d8576b\"], [0.6666666666666666, \"#ed7953\"], [0.7777777777777778, \"#fb9f3a\"], [0.8888888888888888, \"#fdca26\"], [1.0, \"#f0f921\"]], \"type\": \"surface\"}], \"table\": [{\"cells\": {\"fill\": {\"color\": \"#EBF0F8\"}, \"line\": {\"color\": \"white\"}}, \"header\": {\"fill\": {\"color\": \"#C8D4E3\"}, \"line\": {\"color\": \"white\"}}, \"type\": \"table\"}]}, \"layout\": {\"annotationdefaults\": {\"arrowcolor\": \"#2a3f5f\", \"arrowhead\": 0, \"arrowwidth\": 1}, \"coloraxis\": {\"colorbar\": {\"outlinewidth\": 0, \"ticks\": \"\"}}, \"colorscale\": {\"diverging\": [[0, \"#8e0152\"], [0.1, \"#c51b7d\"], [0.2, \"#de77ae\"], [0.3, \"#f1b6da\"], [0.4, \"#fde0ef\"], [0.5, \"#f7f7f7\"], [0.6, \"#e6f5d0\"], [0.7, \"#b8e186\"], [0.8, \"#7fbc41\"], [0.9, \"#4d9221\"], [1, \"#276419\"]], \"sequential\": [[0.0, \"#0d0887\"], [0.1111111111111111, \"#46039f\"], [0.2222222222222222, \"#7201a8\"], [0.3333333333333333, \"#9c179e\"], [0.4444444444444444, \"#bd3786\"], [0.5555555555555556, \"#d8576b\"], [0.6666666666666666, \"#ed7953\"], [0.7777777777777778, \"#fb9f3a\"], [0.8888888888888888, \"#fdca26\"], [1.0, \"#f0f921\"]], \"sequentialminus\": [[0.0, \"#0d0887\"], [0.1111111111111111, \"#46039f\"], [0.2222222222222222, \"#7201a8\"], [0.3333333333333333, \"#9c179e\"], [0.4444444444444444, \"#bd3786\"], [0.5555555555555556, \"#d8576b\"], [0.6666666666666666, \"#ed7953\"], [0.7777777777777778, \"#fb9f3a\"], [0.8888888888888888, \"#fdca26\"], [1.0, \"#f0f921\"]]}, \"colorway\": [\"#636efa\", \"#EF553B\", \"#00cc96\", \"#ab63fa\", \"#FFA15A\", \"#19d3f3\", \"#FF6692\", \"#B6E880\", \"#FF97FF\", \"#FECB52\"], \"font\": {\"color\": \"#2a3f5f\"}, \"geo\": {\"bgcolor\": \"white\", \"lakecolor\": \"white\", \"landcolor\": \"#E5ECF6\", \"showlakes\": true, \"showland\": true, \"subunitcolor\": \"white\"}, \"hoverlabel\": {\"align\": \"left\"}, \"hovermode\": \"closest\", \"mapbox\": {\"style\": \"light\"}, \"paper_bgcolor\": \"white\", \"plot_bgcolor\": \"#E5ECF6\", \"polar\": {\"angularaxis\": {\"gridcolor\": \"white\", \"linecolor\": \"white\", \"ticks\": \"\"}, \"bgcolor\": \"#E5ECF6\", \"radialaxis\": {\"gridcolor\": \"white\", \"linecolor\": \"white\", \"ticks\": \"\"}}, \"scene\": {\"xaxis\": {\"backgroundcolor\": \"#E5ECF6\", \"gridcolor\": \"white\", \"gridwidth\": 2, \"linecolor\": \"white\", \"showbackground\": true, \"ticks\": \"\", \"zerolinecolor\": \"white\"}, \"yaxis\": {\"backgroundcolor\": \"#E5ECF6\", \"gridcolor\": \"white\", \"gridwidth\": 2, \"linecolor\": \"white\", \"showbackground\": true, \"ticks\": \"\", \"zerolinecolor\": \"white\"}, \"zaxis\": {\"backgroundcolor\": \"#E5ECF6\", \"gridcolor\": \"white\", \"gridwidth\": 2, \"linecolor\": \"white\", \"showbackground\": true, \"ticks\": \"\", \"zerolinecolor\": \"white\"}}, \"shapedefaults\": {\"line\": {\"color\": \"#2a3f5f\"}}, \"ternary\": {\"aaxis\": {\"gridcolor\": \"white\", \"linecolor\": \"white\", \"ticks\": \"\"}, \"baxis\": {\"gridcolor\": \"white\", \"linecolor\": \"white\", \"ticks\": \"\"}, \"bgcolor\": \"#E5ECF6\", \"caxis\": {\"gridcolor\": \"white\", \"linecolor\": \"white\", \"ticks\": \"\"}}, \"title\": {\"x\": 0.05}, \"xaxis\": {\"automargin\": true, \"gridcolor\": \"white\", \"linecolor\": \"white\", \"ticks\": \"\", \"title\": {\"standoff\": 15}, \"zerolinecolor\": \"white\", \"zerolinewidth\": 2}, \"yaxis\": {\"automargin\": true, \"gridcolor\": \"white\", \"linecolor\": \"white\", \"ticks\": \"\", \"title\": {\"standoff\": 15}, \"zerolinecolor\": \"white\", \"zerolinewidth\": 2}}}},\n",
              "                        {\"responsive\": true}\n",
              "                    ).then(function(){\n",
              "                            \n",
              "var gd = document.getElementById('6b3d70c0-b8d3-4427-9a87-b22017def597');\n",
              "var x = new MutationObserver(function (mutations, observer) {{\n",
              "        var display = window.getComputedStyle(gd).display;\n",
              "        if (!display || display === 'none') {{\n",
              "            console.log([gd, 'removed!']);\n",
              "            Plotly.purge(gd);\n",
              "            observer.disconnect();\n",
              "        }}\n",
              "}});\n",
              "\n",
              "// Listen for the removal of the full notebook cells\n",
              "var notebookContainer = gd.closest('#notebook-container');\n",
              "if (notebookContainer) {{\n",
              "    x.observe(notebookContainer, {childList: true});\n",
              "}}\n",
              "\n",
              "// Listen for the clearing of the current output cell\n",
              "var outputEl = gd.closest('.output');\n",
              "if (outputEl) {{\n",
              "    x.observe(outputEl, {childList: true});\n",
              "}}\n",
              "\n",
              "                        })\n",
              "                };\n",
              "                \n",
              "            </script>\n",
              "        </div>\n",
              "</body>\n",
              "</html>"
            ]
          },
          "metadata": {
            "tags": []
          }
        }
      ]
    },
    {
      "cell_type": "code",
      "metadata": {
        "id": "F9St9Ck3ZRmO"
      },
      "source": [
        "high_state = pd.to_numeric(df['high_salary']).groupby(df['state'])\n",
        "\n",
        "mean = high_state.median().reset_index()\n",
        "mean = mean.sort_values('high_salary', ascending=False)"
      ],
      "execution_count": 37,
      "outputs": []
    },
    {
      "cell_type": "code",
      "metadata": {
        "id": "WxuTncxpZ79C",
        "colab": {
          "base_uri": "https://localhost:8080/",
          "height": 196
        },
        "outputId": "4a518b8a-db38-4ab1-8842-5248de29c5e4"
      },
      "source": [
        "mean.head()"
      ],
      "execution_count": 38,
      "outputs": [
        {
          "output_type": "execute_result",
          "data": {
            "text/html": [
              "<div>\n",
              "<style scoped>\n",
              "    .dataframe tbody tr th:only-of-type {\n",
              "        vertical-align: middle;\n",
              "    }\n",
              "\n",
              "    .dataframe tbody tr th {\n",
              "        vertical-align: top;\n",
              "    }\n",
              "\n",
              "    .dataframe thead th {\n",
              "        text-align: right;\n",
              "    }\n",
              "</style>\n",
              "<table border=\"1\" class=\"dataframe\">\n",
              "  <thead>\n",
              "    <tr style=\"text-align: right;\">\n",
              "      <th></th>\n",
              "      <th>state</th>\n",
              "      <th>high_salary</th>\n",
              "    </tr>\n",
              "  </thead>\n",
              "  <tbody>\n",
              "    <tr>\n",
              "      <th>7</th>\n",
              "      <td>DE</td>\n",
              "      <td>331.0</td>\n",
              "    </tr>\n",
              "    <tr>\n",
              "      <th>10</th>\n",
              "      <td>IA</td>\n",
              "      <td>198.0</td>\n",
              "    </tr>\n",
              "    <tr>\n",
              "      <th>1</th>\n",
              "      <td>AZ</td>\n",
              "      <td>168.0</td>\n",
              "    </tr>\n",
              "    <tr>\n",
              "      <th>37</th>\n",
              "      <td>WI</td>\n",
              "      <td>167.0</td>\n",
              "    </tr>\n",
              "    <tr>\n",
              "      <th>20</th>\n",
              "      <td>MS</td>\n",
              "      <td>165.0</td>\n",
              "    </tr>\n",
              "  </tbody>\n",
              "</table>\n",
              "</div>"
            ],
            "text/plain": [
              "   state  high_salary\n",
              "7     DE        331.0\n",
              "10    IA        198.0\n",
              "1     AZ        168.0\n",
              "37    WI        167.0\n",
              "20    MS        165.0"
            ]
          },
          "metadata": {
            "tags": []
          },
          "execution_count": 38
        }
      ]
    },
    {
      "cell_type": "code",
      "metadata": {
        "id": "u5CcLynWbF-j",
        "colab": {
          "base_uri": "https://localhost:8080/",
          "height": 196
        },
        "outputId": "a7882127-e0df-4ce5-ebeb-c91246f42dc2"
      },
      "source": [
        "mean.tail()"
      ],
      "execution_count": 39,
      "outputs": [
        {
          "output_type": "execute_result",
          "data": {
            "text/html": [
              "<div>\n",
              "<style scoped>\n",
              "    .dataframe tbody tr th:only-of-type {\n",
              "        vertical-align: middle;\n",
              "    }\n",
              "\n",
              "    .dataframe tbody tr th {\n",
              "        vertical-align: top;\n",
              "    }\n",
              "\n",
              "    .dataframe thead th {\n",
              "        text-align: right;\n",
              "    }\n",
              "</style>\n",
              "<table border=\"1\" class=\"dataframe\">\n",
              "  <thead>\n",
              "    <tr style=\"text-align: right;\">\n",
              "      <th></th>\n",
              "      <th>state</th>\n",
              "      <th>high_salary</th>\n",
              "    </tr>\n",
              "  </thead>\n",
              "  <tbody>\n",
              "    <tr>\n",
              "      <th>5</th>\n",
              "      <td>CT</td>\n",
              "      <td>116.0</td>\n",
              "    </tr>\n",
              "    <tr>\n",
              "      <th>2</th>\n",
              "      <td>Anne Arundel</td>\n",
              "      <td>112.0</td>\n",
              "    </tr>\n",
              "    <tr>\n",
              "      <th>27</th>\n",
              "      <td>OK</td>\n",
              "      <td>111.0</td>\n",
              "    </tr>\n",
              "    <tr>\n",
              "      <th>34</th>\n",
              "      <td>UT</td>\n",
              "      <td>109.0</td>\n",
              "    </tr>\n",
              "    <tr>\n",
              "      <th>31</th>\n",
              "      <td>SC</td>\n",
              "      <td>107.5</td>\n",
              "    </tr>\n",
              "  </tbody>\n",
              "</table>\n",
              "</div>"
            ],
            "text/plain": [
              "           state  high_salary\n",
              "5             CT        116.0\n",
              "2   Anne Arundel        112.0\n",
              "27            OK        111.0\n",
              "34            UT        109.0\n",
              "31            SC        107.5"
            ]
          },
          "metadata": {
            "tags": []
          },
          "execution_count": 39
        }
      ]
    },
    {
      "cell_type": "code",
      "metadata": {
        "id": "6NynwRbFcT1o"
      },
      "source": [
        "low_state = pd.to_numeric(df['low_salary']).groupby(df['state'])\n",
        "\n",
        "mean = low_state.median().reset_index()\n",
        "mean = mean.sort_values('low_salary', ascending=False)"
      ],
      "execution_count": 40,
      "outputs": []
    },
    {
      "cell_type": "code",
      "metadata": {
        "id": "gEg2r-VoThiQ",
        "colab": {
          "base_uri": "https://localhost:8080/",
          "height": 1000
        },
        "outputId": "63dc4a23-9437-457c-beed-63957dd55409"
      },
      "source": [
        "mean"
      ],
      "execution_count": 41,
      "outputs": [
        {
          "output_type": "execute_result",
          "data": {
            "text/html": [
              "<div>\n",
              "<style scoped>\n",
              "    .dataframe tbody tr th:only-of-type {\n",
              "        vertical-align: middle;\n",
              "    }\n",
              "\n",
              "    .dataframe tbody tr th {\n",
              "        vertical-align: top;\n",
              "    }\n",
              "\n",
              "    .dataframe thead th {\n",
              "        text-align: right;\n",
              "    }\n",
              "</style>\n",
              "<table border=\"1\" class=\"dataframe\">\n",
              "  <thead>\n",
              "    <tr style=\"text-align: right;\">\n",
              "      <th></th>\n",
              "      <th>state</th>\n",
              "      <th>low_salary</th>\n",
              "    </tr>\n",
              "  </thead>\n",
              "  <tbody>\n",
              "    <tr>\n",
              "      <th>7</th>\n",
              "      <td>DE</td>\n",
              "      <td>212.0</td>\n",
              "    </tr>\n",
              "    <tr>\n",
              "      <th>10</th>\n",
              "      <td>IA</td>\n",
              "      <td>124.0</td>\n",
              "    </tr>\n",
              "    <tr>\n",
              "      <th>37</th>\n",
              "      <td>WI</td>\n",
              "      <td>123.5</td>\n",
              "    </tr>\n",
              "    <tr>\n",
              "      <th>1</th>\n",
              "      <td>AZ</td>\n",
              "      <td>112.5</td>\n",
              "    </tr>\n",
              "    <tr>\n",
              "      <th>21</th>\n",
              "      <td>NC</td>\n",
              "      <td>110.0</td>\n",
              "    </tr>\n",
              "    <tr>\n",
              "      <th>28</th>\n",
              "      <td>OR</td>\n",
              "      <td>109.0</td>\n",
              "    </tr>\n",
              "    <tr>\n",
              "      <th>0</th>\n",
              "      <td>AL</td>\n",
              "      <td>105.5</td>\n",
              "    </tr>\n",
              "    <tr>\n",
              "      <th>20</th>\n",
              "      <td>MS</td>\n",
              "      <td>101.0</td>\n",
              "    </tr>\n",
              "    <tr>\n",
              "      <th>30</th>\n",
              "      <td>RI</td>\n",
              "      <td>100.5</td>\n",
              "    </tr>\n",
              "    <tr>\n",
              "      <th>6</th>\n",
              "      <td>DC</td>\n",
              "      <td>100.0</td>\n",
              "    </tr>\n",
              "    <tr>\n",
              "      <th>23</th>\n",
              "      <td>NH</td>\n",
              "      <td>99.5</td>\n",
              "    </tr>\n",
              "    <tr>\n",
              "      <th>24</th>\n",
              "      <td>NJ</td>\n",
              "      <td>98.0</td>\n",
              "    </tr>\n",
              "    <tr>\n",
              "      <th>29</th>\n",
              "      <td>PA</td>\n",
              "      <td>96.0</td>\n",
              "    </tr>\n",
              "    <tr>\n",
              "      <th>33</th>\n",
              "      <td>TX</td>\n",
              "      <td>95.0</td>\n",
              "    </tr>\n",
              "    <tr>\n",
              "      <th>35</th>\n",
              "      <td>VA</td>\n",
              "      <td>95.0</td>\n",
              "    </tr>\n",
              "    <tr>\n",
              "      <th>25</th>\n",
              "      <td>NY</td>\n",
              "      <td>93.5</td>\n",
              "    </tr>\n",
              "    <tr>\n",
              "      <th>11</th>\n",
              "      <td>IL</td>\n",
              "      <td>92.0</td>\n",
              "    </tr>\n",
              "    <tr>\n",
              "      <th>3</th>\n",
              "      <td>CA</td>\n",
              "      <td>92.0</td>\n",
              "    </tr>\n",
              "    <tr>\n",
              "      <th>36</th>\n",
              "      <td>WA</td>\n",
              "      <td>91.5</td>\n",
              "    </tr>\n",
              "    <tr>\n",
              "      <th>15</th>\n",
              "      <td>MA</td>\n",
              "      <td>90.5</td>\n",
              "    </tr>\n",
              "    <tr>\n",
              "      <th>34</th>\n",
              "      <td>UT</td>\n",
              "      <td>90.0</td>\n",
              "    </tr>\n",
              "    <tr>\n",
              "      <th>19</th>\n",
              "      <td>MO</td>\n",
              "      <td>90.0</td>\n",
              "    </tr>\n",
              "    <tr>\n",
              "      <th>12</th>\n",
              "      <td>IN</td>\n",
              "      <td>90.0</td>\n",
              "    </tr>\n",
              "    <tr>\n",
              "      <th>8</th>\n",
              "      <td>FL</td>\n",
              "      <td>90.0</td>\n",
              "    </tr>\n",
              "    <tr>\n",
              "      <th>17</th>\n",
              "      <td>MI</td>\n",
              "      <td>90.0</td>\n",
              "    </tr>\n",
              "    <tr>\n",
              "      <th>16</th>\n",
              "      <td>MD</td>\n",
              "      <td>90.0</td>\n",
              "    </tr>\n",
              "    <tr>\n",
              "      <th>4</th>\n",
              "      <td>CO</td>\n",
              "      <td>89.0</td>\n",
              "    </tr>\n",
              "    <tr>\n",
              "      <th>38</th>\n",
              "      <td>WV</td>\n",
              "      <td>87.0</td>\n",
              "    </tr>\n",
              "    <tr>\n",
              "      <th>27</th>\n",
              "      <td>OK</td>\n",
              "      <td>85.5</td>\n",
              "    </tr>\n",
              "    <tr>\n",
              "      <th>31</th>\n",
              "      <td>SC</td>\n",
              "      <td>84.5</td>\n",
              "    </tr>\n",
              "    <tr>\n",
              "      <th>9</th>\n",
              "      <td>GA</td>\n",
              "      <td>80.0</td>\n",
              "    </tr>\n",
              "    <tr>\n",
              "      <th>18</th>\n",
              "      <td>MN</td>\n",
              "      <td>79.5</td>\n",
              "    </tr>\n",
              "    <tr>\n",
              "      <th>26</th>\n",
              "      <td>OH</td>\n",
              "      <td>79.5</td>\n",
              "    </tr>\n",
              "    <tr>\n",
              "      <th>22</th>\n",
              "      <td>NE</td>\n",
              "      <td>79.0</td>\n",
              "    </tr>\n",
              "    <tr>\n",
              "      <th>32</th>\n",
              "      <td>TN</td>\n",
              "      <td>75.5</td>\n",
              "    </tr>\n",
              "    <tr>\n",
              "      <th>14</th>\n",
              "      <td>LA</td>\n",
              "      <td>75.0</td>\n",
              "    </tr>\n",
              "    <tr>\n",
              "      <th>13</th>\n",
              "      <td>KS</td>\n",
              "      <td>75.0</td>\n",
              "    </tr>\n",
              "    <tr>\n",
              "      <th>5</th>\n",
              "      <td>CT</td>\n",
              "      <td>70.0</td>\n",
              "    </tr>\n",
              "    <tr>\n",
              "      <th>2</th>\n",
              "      <td>Anne Arundel</td>\n",
              "      <td>66.0</td>\n",
              "    </tr>\n",
              "  </tbody>\n",
              "</table>\n",
              "</div>"
            ],
            "text/plain": [
              "           state  low_salary\n",
              "7             DE       212.0\n",
              "10            IA       124.0\n",
              "37            WI       123.5\n",
              "1             AZ       112.5\n",
              "21            NC       110.0\n",
              "28            OR       109.0\n",
              "0             AL       105.5\n",
              "20            MS       101.0\n",
              "30            RI       100.5\n",
              "6             DC       100.0\n",
              "23            NH        99.5\n",
              "24            NJ        98.0\n",
              "29            PA        96.0\n",
              "33            TX        95.0\n",
              "35            VA        95.0\n",
              "25            NY        93.5\n",
              "11            IL        92.0\n",
              "3             CA        92.0\n",
              "36            WA        91.5\n",
              "15            MA        90.5\n",
              "34            UT        90.0\n",
              "19            MO        90.0\n",
              "12            IN        90.0\n",
              "8             FL        90.0\n",
              "17            MI        90.0\n",
              "16            MD        90.0\n",
              "4             CO        89.0\n",
              "38            WV        87.0\n",
              "27            OK        85.5\n",
              "31            SC        84.5\n",
              "9             GA        80.0\n",
              "18            MN        79.5\n",
              "26            OH        79.5\n",
              "22            NE        79.0\n",
              "32            TN        75.5\n",
              "14            LA        75.0\n",
              "13            KS        75.0\n",
              "5             CT        70.0\n",
              "2   Anne Arundel        66.0"
            ]
          },
          "metadata": {
            "tags": []
          },
          "execution_count": 41
        }
      ]
    },
    {
      "cell_type": "code",
      "metadata": {
        "id": "fmsgEjW5cZ6_",
        "colab": {
          "base_uri": "https://localhost:8080/",
          "height": 196
        },
        "outputId": "8060b16e-57d6-4054-8ca4-3f2c708c10e9"
      },
      "source": [
        "mean.head()"
      ],
      "execution_count": 42,
      "outputs": [
        {
          "output_type": "execute_result",
          "data": {
            "text/html": [
              "<div>\n",
              "<style scoped>\n",
              "    .dataframe tbody tr th:only-of-type {\n",
              "        vertical-align: middle;\n",
              "    }\n",
              "\n",
              "    .dataframe tbody tr th {\n",
              "        vertical-align: top;\n",
              "    }\n",
              "\n",
              "    .dataframe thead th {\n",
              "        text-align: right;\n",
              "    }\n",
              "</style>\n",
              "<table border=\"1\" class=\"dataframe\">\n",
              "  <thead>\n",
              "    <tr style=\"text-align: right;\">\n",
              "      <th></th>\n",
              "      <th>state</th>\n",
              "      <th>low_salary</th>\n",
              "    </tr>\n",
              "  </thead>\n",
              "  <tbody>\n",
              "    <tr>\n",
              "      <th>7</th>\n",
              "      <td>DE</td>\n",
              "      <td>212.0</td>\n",
              "    </tr>\n",
              "    <tr>\n",
              "      <th>10</th>\n",
              "      <td>IA</td>\n",
              "      <td>124.0</td>\n",
              "    </tr>\n",
              "    <tr>\n",
              "      <th>37</th>\n",
              "      <td>WI</td>\n",
              "      <td>123.5</td>\n",
              "    </tr>\n",
              "    <tr>\n",
              "      <th>1</th>\n",
              "      <td>AZ</td>\n",
              "      <td>112.5</td>\n",
              "    </tr>\n",
              "    <tr>\n",
              "      <th>21</th>\n",
              "      <td>NC</td>\n",
              "      <td>110.0</td>\n",
              "    </tr>\n",
              "  </tbody>\n",
              "</table>\n",
              "</div>"
            ],
            "text/plain": [
              "   state  low_salary\n",
              "7     DE       212.0\n",
              "10    IA       124.0\n",
              "37    WI       123.5\n",
              "1     AZ       112.5\n",
              "21    NC       110.0"
            ]
          },
          "metadata": {
            "tags": []
          },
          "execution_count": 42
        }
      ]
    },
    {
      "cell_type": "code",
      "metadata": {
        "id": "-a19TAb-cbNV",
        "colab": {
          "base_uri": "https://localhost:8080/",
          "height": 196
        },
        "outputId": "d44b07ae-8cb8-4c9c-ab15-c93e9d134829"
      },
      "source": [
        "mean.tail()"
      ],
      "execution_count": 43,
      "outputs": [
        {
          "output_type": "execute_result",
          "data": {
            "text/html": [
              "<div>\n",
              "<style scoped>\n",
              "    .dataframe tbody tr th:only-of-type {\n",
              "        vertical-align: middle;\n",
              "    }\n",
              "\n",
              "    .dataframe tbody tr th {\n",
              "        vertical-align: top;\n",
              "    }\n",
              "\n",
              "    .dataframe thead th {\n",
              "        text-align: right;\n",
              "    }\n",
              "</style>\n",
              "<table border=\"1\" class=\"dataframe\">\n",
              "  <thead>\n",
              "    <tr style=\"text-align: right;\">\n",
              "      <th></th>\n",
              "      <th>state</th>\n",
              "      <th>low_salary</th>\n",
              "    </tr>\n",
              "  </thead>\n",
              "  <tbody>\n",
              "    <tr>\n",
              "      <th>32</th>\n",
              "      <td>TN</td>\n",
              "      <td>75.5</td>\n",
              "    </tr>\n",
              "    <tr>\n",
              "      <th>14</th>\n",
              "      <td>LA</td>\n",
              "      <td>75.0</td>\n",
              "    </tr>\n",
              "    <tr>\n",
              "      <th>13</th>\n",
              "      <td>KS</td>\n",
              "      <td>75.0</td>\n",
              "    </tr>\n",
              "    <tr>\n",
              "      <th>5</th>\n",
              "      <td>CT</td>\n",
              "      <td>70.0</td>\n",
              "    </tr>\n",
              "    <tr>\n",
              "      <th>2</th>\n",
              "      <td>Anne Arundel</td>\n",
              "      <td>66.0</td>\n",
              "    </tr>\n",
              "  </tbody>\n",
              "</table>\n",
              "</div>"
            ],
            "text/plain": [
              "           state  low_salary\n",
              "32            TN        75.5\n",
              "14            LA        75.0\n",
              "13            KS        75.0\n",
              "5             CT        70.0\n",
              "2   Anne Arundel        66.0"
            ]
          },
          "metadata": {
            "tags": []
          },
          "execution_count": 43
        }
      ]
    },
    {
      "cell_type": "markdown",
      "metadata": {
        "id": "1AMH9C8Te0OV"
      },
      "source": [
        "## Salary Information - Skills"
      ]
    },
    {
      "cell_type": "code",
      "metadata": {
        "id": "C1bV109vpkD-",
        "colab": {
          "base_uri": "https://localhost:8080/"
        },
        "outputId": "c34d14df-8d8c-4308-aba9-03398ff19449"
      },
      "source": [
        "print(' python {}\\n phd {}\\n sas {}\\n sql {}\\n tableau {}\\n r {}\\n algorithms {}\\n'\n",
        "      ' visualization {}\\n spark {}\\n masters {}\\n aws {}\\n excel {}\\n agile {}\\n optimization {}\\n'\n",
        "      ' optimize {}\\n tensorflow {}\\n nosql {}\\n hadoop {}\\n scikitlearn {}\\n nlp {}\\n'.format(\n",
        "          df.loc[df['python'] == 1, 'high_salary'].median(),\n",
        "          df.loc[df['phd'] == 1, 'high_salary'].median(),\n",
        "          df.loc[df['sas'] == 1, 'high_salary'].median(),\n",
        "          df.loc[df['sql'] == 1, 'high_salary'].median(), \n",
        "          df.loc[df['tableau'] == 1, 'high_salary'].median(),\n",
        "          df.loc[df['r'] == 1, 'high_salary'].median(),\n",
        "          df.loc[df['algorithms'] == 1, 'high_salary'].median(),\n",
        "          df.loc[df['visualization'] == 1, 'high_salary'].median(),\n",
        "          df.loc[df['spark'] == 1, 'high_salary'].median(),\n",
        "          df.loc[df['masters'] == 1, 'high_salary'].median(),\n",
        "          df.loc[df['aws'] == 1, 'high_salary'].median(),\n",
        "          df.loc[df['excel'] == 1, 'high_salary'].median(),\n",
        "          df.loc[df['agile'] == 1, 'high_salary'].median(), \n",
        "          df.loc[df['optimization'] == 1, 'high_salary'].median(),\n",
        "          df.loc[df['optimize'] == 1, 'high_salary'].median(),\n",
        "          df.loc[df['tensorflow'] == 1, 'high_salary'].median(),\n",
        "          df.loc[df['nosql'] == 1, 'high_salary'].median(),\n",
        "          df.loc[df['hadoop'] == 1, 'high_salary'].median(), \n",
        "          df.loc[df['scikitlearn'] == 1, 'high_salary'].median(),\n",
        "          df.loc[df['nlp'] == 1, 'high_salary'].median()\n",
        "          )\n",
        "      )"
      ],
      "execution_count": 44,
      "outputs": [
        {
          "output_type": "stream",
          "text": [
            " python 132.0\n",
            " phd 133.0\n",
            " sas 132.0\n",
            " sql 132.0\n",
            " tableau 141.0\n",
            " r 133.0\n",
            " algorithms 141.0\n",
            " visualization 132.0\n",
            " spark 141.0\n",
            " masters 132.0\n",
            " aws 132.0\n",
            " excel 132.0\n",
            " agile 132.0\n",
            " optimization 132.0\n",
            " optimize 132.0\n",
            " tensorflow 141.0\n",
            " nosql 141.0\n",
            " hadoop 141.0\n",
            " scikitlearn 132.0\n",
            " nlp 146.0\n",
            "\n"
          ],
          "name": "stdout"
        }
      ]
    },
    {
      "cell_type": "code",
      "metadata": {
        "id": "rRsVUgz4zKHu",
        "colab": {
          "base_uri": "https://localhost:8080/"
        },
        "outputId": "5d7db492-dd5c-407b-e0f5-9046b3e1e43e"
      },
      "source": [
        "print(' python {}\\n phd {}\\n sas {}\\n sql {}\\n tableau {}\\n r {}\\n algorithms {}\\n'\n",
        "      ' visualization {}\\n spark {}\\n masters {}\\n aws {}\\n excel {}\\n agile {}\\n optimization {}\\n'\n",
        "      ' optimize {}\\n tensorflow {}\\n nosql {}\\n hadoop {}\\n scikitlearn {}\\n nlp {}\\n'.format(\n",
        "          df.loc[df['python'] == 1, 'low_salary'].median(),\n",
        "          df.loc[df['phd'] == 1, 'low_salary'].median(),\n",
        "          df.loc[df['sas'] == 1, 'low_salary'].median(),\n",
        "          df.loc[df['sql'] == 1, 'low_salary'].median(),\n",
        "          df.loc[df['tableau'] == 1, 'low_salary'].median(),\n",
        "          df.loc[df['r'] == 1, 'low_salary'].median(),\n",
        "          df.loc[df['algorithms'] == 1, 'low_salary'].median(),\n",
        "          df.loc[df['visualization'] == 1, 'low_salary'].median(),\n",
        "          df.loc[df['spark'] == 1, 'low_salary'].median(),\n",
        "          df.loc[df['masters'] == 1, 'low_salary'].median(),\n",
        "          df.loc[df['aws'] == 1, 'low_salary'].median(),\n",
        "          df.loc[df['excel'] == 1, 'low_salary'].median(),\n",
        "          df.loc[df['agile'] == 1, 'low_salary'].median(), \n",
        "          df.loc[df['optimization'] == 1, 'low_salary'].median(),\n",
        "          df.loc[df['optimize'] == 1, 'low_salary'].median(),\n",
        "          df.loc[df['tensorflow'] == 1, 'low_salary'].median(),\n",
        "          df.loc[df['nosql'] == 1, 'low_salary'].median(),\n",
        "          df.loc[df['hadoop'] == 1, 'low_salary'].median(), \n",
        "          df.loc[df['scikitlearn'] == 1, 'low_salary'].median(),\n",
        "          df.loc[df['nlp'] == 1, 'low_salary'].median()\n",
        "          )\n",
        "      )"
      ],
      "execution_count": 45,
      "outputs": [
        {
          "output_type": "stream",
          "text": [
            " python 91.0\n",
            " phd 92.0\n",
            " sas 91.0\n",
            " sql 91.0\n",
            " tableau 91.0\n",
            " r 91.0\n",
            " algorithms 92.0\n",
            " visualization 91.0\n",
            " spark 95.0\n",
            " masters 90.0\n",
            " aws 91.5\n",
            " excel 90.0\n",
            " agile 95.0\n",
            " optimization 92.0\n",
            " optimize 90.0\n",
            " tensorflow 99.0\n",
            " nosql 95.0\n",
            " hadoop 92.0\n",
            " scikitlearn 95.0\n",
            " nlp 101.0\n",
            "\n"
          ],
          "name": "stdout"
        }
      ]
    },
    {
      "cell_type": "markdown",
      "metadata": {
        "id": "xR5QczvqpyN9"
      },
      "source": [
        "### Salary Information - SKills - Multiple"
      ]
    },
    {
      "cell_type": "code",
      "metadata": {
        "id": "xY7j3lsQsr_Q",
        "colab": {
          "base_uri": "https://localhost:8080/"
        },
        "outputId": "215a802f-a3f3-4b85-abe9-a1e63fb8c45e"
      },
      "source": [
        "g = df.groupby('state')\n",
        "g.apply(lambda x: x[x['python'] == 1]['high_salary'].median())"
      ],
      "execution_count": 46,
      "outputs": [
        {
          "output_type": "execute_result",
          "data": {
            "text/plain": [
              "state\n",
              "AL              163.0\n",
              "AZ              181.5\n",
              "Anne Arundel      NaN\n",
              "CA              132.0\n",
              "CO              116.0\n",
              "CT              116.0\n",
              "DC              165.0\n",
              "DE              331.0\n",
              "FL              131.0\n",
              "GA              124.0\n",
              "IA                NaN\n",
              "IL              143.5\n",
              "IN              131.0\n",
              "KS              131.0\n",
              "LA                NaN\n",
              "MA              131.0\n",
              "MD              131.5\n",
              "MI              165.0\n",
              "MN              132.0\n",
              "MO              131.0\n",
              "MS                NaN\n",
              "NC              167.0\n",
              "NE              136.0\n",
              "NH              164.5\n",
              "NJ              150.0\n",
              "NY              147.0\n",
              "OH              132.0\n",
              "OK              135.5\n",
              "OR              155.0\n",
              "PA              147.0\n",
              "RI                NaN\n",
              "SC                NaN\n",
              "TN              123.0\n",
              "TX              141.0\n",
              "UT              109.0\n",
              "VA              141.0\n",
              "WA              151.0\n",
              "WI              225.0\n",
              "WV              141.0\n",
              "dtype: float64"
            ]
          },
          "metadata": {
            "tags": []
          },
          "execution_count": 46
        }
      ]
    },
    {
      "cell_type": "code",
      "metadata": {
        "id": "5A1x4aKtn-Cc",
        "colab": {
          "base_uri": "https://localhost:8080/"
        },
        "outputId": "90c29253-f978-422b-aa4d-7405f6b7b2f3"
      },
      "source": [
        "g = df.groupby('python') # Employee can do Python (1), Employee cannot do python (0)\n",
        "print('and aws {}'.format(g.apply(lambda x: x[x['optimization'] == 1]['high_salary'].median()))) # Employee can do Hadoop if 1"
      ],
      "execution_count": 47,
      "outputs": [
        {
          "output_type": "stream",
          "text": [
            "and aws python\n",
            "0    131.0\n",
            "1    132.0\n",
            "dtype: float64\n"
          ],
          "name": "stdout"
        }
      ]
    }
  ]
}